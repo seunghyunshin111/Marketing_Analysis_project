{
 "cells": [
  {
   "cell_type": "code",
   "execution_count": 2,
   "metadata": {},
   "outputs": [],
   "source": [
    "import pandas as pd"
   ]
  },
  {
   "cell_type": "markdown",
   "metadata": {},
   "source": [
    "https://dojang.io/mod/page/view.php?id=2459 그래프 그리기 1 <br>\n"
   ]
  },
  {
   "cell_type": "code",
   "execution_count": 39,
   "metadata": {},
   "outputs": [],
   "source": [
    "data = pd.read_excel(\"C:/Marketing_project/sh/라면데이터.xlsx\")"
   ]
  },
  {
   "cell_type": "code",
   "execution_count": 40,
   "metadata": {},
   "outputs": [],
   "source": [
    "data = data[data[\"채널\"]!=\"전국\"]"
   ]
  },
  {
   "cell_type": "markdown",
   "metadata": {},
   "source": [
    " # 제조사 A"
   ]
  },
  {
   "cell_type": "code",
   "execution_count": 41,
   "metadata": {},
   "outputs": [
    {
     "data": {
      "text/html": [
       "<div>\n",
       "<style scoped>\n",
       "    .dataframe tbody tr th:only-of-type {\n",
       "        vertical-align: middle;\n",
       "    }\n",
       "\n",
       "    .dataframe tbody tr th {\n",
       "        vertical-align: top;\n",
       "    }\n",
       "\n",
       "    .dataframe thead th {\n",
       "        text-align: right;\n",
       "    }\n",
       "</style>\n",
       "<table border=\"1\" class=\"dataframe\">\n",
       "  <thead>\n",
       "    <tr style=\"text-align: right;\">\n",
       "      <th></th>\n",
       "      <th>채널</th>\n",
       "      <th>FACT</th>\n",
       "      <th>제품명</th>\n",
       "      <th>제조사</th>\n",
       "      <th>브랜드</th>\n",
       "      <th>서브 브랜드</th>\n",
       "      <th>포장형태</th>\n",
       "      <th>면 종류</th>\n",
       "      <th>JAN17</th>\n",
       "      <th>FEB17</th>\n",
       "      <th>...</th>\n",
       "      <th>MAR19</th>\n",
       "      <th>APR19</th>\n",
       "      <th>MAY19</th>\n",
       "      <th>JUN19</th>\n",
       "      <th>JUL19</th>\n",
       "      <th>AUG19</th>\n",
       "      <th>SEP19</th>\n",
       "      <th>OCT19</th>\n",
       "      <th>NOV19</th>\n",
       "      <th>DEC19</th>\n",
       "    </tr>\n",
       "  </thead>\n",
       "  <tbody>\n",
       "    <tr>\n",
       "      <td>1856</td>\n",
       "      <td>할인점</td>\n",
       "      <td>판매액</td>\n",
       "      <td>A 제조사 추추라면 노브랜드 봉지</td>\n",
       "      <td>A 제조사</td>\n",
       "      <td>추추라면</td>\n",
       "      <td>노브랜드</td>\n",
       "      <td>봉지</td>\n",
       "      <td>유탕면</td>\n",
       "      <td>2769.14</td>\n",
       "      <td>2373.54</td>\n",
       "      <td>...</td>\n",
       "      <td>2839.28</td>\n",
       "      <td>1908.15</td>\n",
       "      <td>1907.44</td>\n",
       "      <td>2059.93</td>\n",
       "      <td>2452.86</td>\n",
       "      <td>2485.75</td>\n",
       "      <td>1946.05</td>\n",
       "      <td>3016.61</td>\n",
       "      <td>1944.07</td>\n",
       "      <td>2052.48</td>\n",
       "    </tr>\n",
       "    <tr>\n",
       "      <td>1857</td>\n",
       "      <td>할인점</td>\n",
       "      <td>판매액</td>\n",
       "      <td>A 제조사 짜장라면 노브랜드 봉지</td>\n",
       "      <td>A 제조사</td>\n",
       "      <td>짜장라면</td>\n",
       "      <td>노브랜드</td>\n",
       "      <td>봉지</td>\n",
       "      <td>유탕면</td>\n",
       "      <td>1318.9</td>\n",
       "      <td>1496.86</td>\n",
       "      <td>...</td>\n",
       "      <td>1919.45</td>\n",
       "      <td>2165.57</td>\n",
       "      <td>1911.38</td>\n",
       "      <td>1900.45</td>\n",
       "      <td>2076.98</td>\n",
       "      <td>2141.11</td>\n",
       "      <td>2219.31</td>\n",
       "      <td>2013.97</td>\n",
       "      <td>2041.52</td>\n",
       "      <td>1778.44</td>\n",
       "    </tr>\n",
       "    <tr>\n",
       "      <td>1858</td>\n",
       "      <td>할인점</td>\n",
       "      <td>판매액</td>\n",
       "      <td>A 제조사 맛라면 노브랜드 봉지</td>\n",
       "      <td>A 제조사</td>\n",
       "      <td>맛라면</td>\n",
       "      <td>노브랜드</td>\n",
       "      <td>봉지</td>\n",
       "      <td>유탕면</td>\n",
       "      <td>1341.23</td>\n",
       "      <td>1220.51</td>\n",
       "      <td>...</td>\n",
       "      <td>923.574</td>\n",
       "      <td>839.274</td>\n",
       "      <td>982.53</td>\n",
       "      <td>1336.46</td>\n",
       "      <td>803.862</td>\n",
       "      <td>1162.68</td>\n",
       "      <td>1152.31</td>\n",
       "      <td>974.214</td>\n",
       "      <td>1099.85</td>\n",
       "      <td>1378.93</td>\n",
       "    </tr>\n",
       "    <tr>\n",
       "      <td>1860</td>\n",
       "      <td>할인점</td>\n",
       "      <td>판매액</td>\n",
       "      <td>A 제조사 우리라면 얼큰한맛 봉지</td>\n",
       "      <td>A 제조사</td>\n",
       "      <td>우리라면</td>\n",
       "      <td>얼큰한맛</td>\n",
       "      <td>봉지</td>\n",
       "      <td>유탕면</td>\n",
       "      <td>1790.39</td>\n",
       "      <td>1317.92</td>\n",
       "      <td>...</td>\n",
       "      <td>851.28</td>\n",
       "      <td>525.48</td>\n",
       "      <td>767.646</td>\n",
       "      <td>890.85</td>\n",
       "      <td>867.444</td>\n",
       "      <td>949.788</td>\n",
       "      <td>942.558</td>\n",
       "      <td>965.076</td>\n",
       "      <td>1223.35</td>\n",
       "      <td>1053.02</td>\n",
       "    </tr>\n",
       "    <tr>\n",
       "      <td>1862</td>\n",
       "      <td>할인점</td>\n",
       "      <td>판매액</td>\n",
       "      <td>A 제조사 육개장 라면 사발면 용기</td>\n",
       "      <td>A 제조사</td>\n",
       "      <td>육개장 라면</td>\n",
       "      <td>사발면</td>\n",
       "      <td>용기</td>\n",
       "      <td>유탕면</td>\n",
       "      <td>861.756</td>\n",
       "      <td>763.518</td>\n",
       "      <td>...</td>\n",
       "      <td>1125</td>\n",
       "      <td>1025.87</td>\n",
       "      <td>678.612</td>\n",
       "      <td>778.398</td>\n",
       "      <td>847.422</td>\n",
       "      <td>1227.43</td>\n",
       "      <td>961.47</td>\n",
       "      <td>1042.17</td>\n",
       "      <td>828.984</td>\n",
       "      <td>754.998</td>\n",
       "    </tr>\n",
       "    <tr>\n",
       "      <td>...</td>\n",
       "      <td>...</td>\n",
       "      <td>...</td>\n",
       "      <td>...</td>\n",
       "      <td>...</td>\n",
       "      <td>...</td>\n",
       "      <td>...</td>\n",
       "      <td>...</td>\n",
       "      <td>...</td>\n",
       "      <td>...</td>\n",
       "      <td>...</td>\n",
       "      <td>...</td>\n",
       "      <td>...</td>\n",
       "      <td>...</td>\n",
       "      <td>...</td>\n",
       "      <td>...</td>\n",
       "      <td>...</td>\n",
       "      <td>...</td>\n",
       "      <td>...</td>\n",
       "      <td>...</td>\n",
       "      <td>...</td>\n",
       "      <td>...</td>\n",
       "    </tr>\n",
       "    <tr>\n",
       "      <td>12972</td>\n",
       "      <td>개인소형+일반수퍼</td>\n",
       "      <td>L/KG당 판매가격</td>\n",
       "      <td>A 제조사 기타 기타 봉지</td>\n",
       "      <td>A 제조사</td>\n",
       "      <td>기타</td>\n",
       "      <td>기타</td>\n",
       "      <td>봉지</td>\n",
       "      <td>유탕면</td>\n",
       "      <td>924.242</td>\n",
       "      <td>933.873</td>\n",
       "      <td>...</td>\n",
       "      <td>NaN</td>\n",
       "      <td>NaN</td>\n",
       "      <td>885.714</td>\n",
       "      <td>ERR</td>\n",
       "      <td>NaN</td>\n",
       "      <td>NaN</td>\n",
       "      <td>NaN</td>\n",
       "      <td>NaN</td>\n",
       "      <td>NaN</td>\n",
       "      <td>NaN</td>\n",
       "    </tr>\n",
       "    <tr>\n",
       "      <td>12973</td>\n",
       "      <td>개인소형+일반수퍼</td>\n",
       "      <td>L/KG당 판매가격</td>\n",
       "      <td>A 제조사 기타 기타 봉지</td>\n",
       "      <td>A 제조사</td>\n",
       "      <td>기타</td>\n",
       "      <td>기타</td>\n",
       "      <td>봉지</td>\n",
       "      <td>유탕면</td>\n",
       "      <td>NaN</td>\n",
       "      <td>NaN</td>\n",
       "      <td>...</td>\n",
       "      <td>1036.36</td>\n",
       "      <td>1102.04</td>\n",
       "      <td>ERR</td>\n",
       "      <td>NaN</td>\n",
       "      <td>NaN</td>\n",
       "      <td>958.333</td>\n",
       "      <td>ERR</td>\n",
       "      <td>NaN</td>\n",
       "      <td>NaN</td>\n",
       "      <td>NaN</td>\n",
       "    </tr>\n",
       "    <tr>\n",
       "      <td>12974</td>\n",
       "      <td>개인소형+일반수퍼</td>\n",
       "      <td>L/KG당 판매가격</td>\n",
       "      <td>A 제조사 기타 기타 봉지</td>\n",
       "      <td>A 제조사</td>\n",
       "      <td>기타</td>\n",
       "      <td>기타</td>\n",
       "      <td>봉지</td>\n",
       "      <td>유탕면</td>\n",
       "      <td>NaN</td>\n",
       "      <td>NaN</td>\n",
       "      <td>...</td>\n",
       "      <td>NaN</td>\n",
       "      <td>NaN</td>\n",
       "      <td>NaN</td>\n",
       "      <td>NaN</td>\n",
       "      <td>NaN</td>\n",
       "      <td>NaN</td>\n",
       "      <td>NaN</td>\n",
       "      <td>NaN</td>\n",
       "      <td>NaN</td>\n",
       "      <td>NaN</td>\n",
       "    </tr>\n",
       "    <tr>\n",
       "      <td>12975</td>\n",
       "      <td>개인소형+일반수퍼</td>\n",
       "      <td>L/KG당 판매가격</td>\n",
       "      <td>A 제조사 기타 기타 봉지</td>\n",
       "      <td>A 제조사</td>\n",
       "      <td>기타</td>\n",
       "      <td>기타</td>\n",
       "      <td>봉지</td>\n",
       "      <td>유탕면</td>\n",
       "      <td>NaN</td>\n",
       "      <td>NaN</td>\n",
       "      <td>...</td>\n",
       "      <td>ERR</td>\n",
       "      <td>NaN</td>\n",
       "      <td>NaN</td>\n",
       "      <td>NaN</td>\n",
       "      <td>NaN</td>\n",
       "      <td>NaN</td>\n",
       "      <td>NaN</td>\n",
       "      <td>NaN</td>\n",
       "      <td>NaN</td>\n",
       "      <td>NaN</td>\n",
       "    </tr>\n",
       "    <tr>\n",
       "      <td>12976</td>\n",
       "      <td>개인소형+일반수퍼</td>\n",
       "      <td>L/KG당 판매가격</td>\n",
       "      <td>A 제조사 기타 기타 봉지</td>\n",
       "      <td>A 제조사</td>\n",
       "      <td>기타</td>\n",
       "      <td>기타</td>\n",
       "      <td>봉지</td>\n",
       "      <td>유탕면</td>\n",
       "      <td>NaN</td>\n",
       "      <td>NaN</td>\n",
       "      <td>...</td>\n",
       "      <td>NaN</td>\n",
       "      <td>1380.71</td>\n",
       "      <td>1429.04</td>\n",
       "      <td>1398.73</td>\n",
       "      <td>1404.03</td>\n",
       "      <td>1412.86</td>\n",
       "      <td>1375.66</td>\n",
       "      <td>1417.91</td>\n",
       "      <td>1464.29</td>\n",
       "      <td>ERR</td>\n",
       "    </tr>\n",
       "  </tbody>\n",
       "</table>\n",
       "<p>3000 rows × 44 columns</p>\n",
       "</div>"
      ],
      "text/plain": [
       "              채널        FACT                  제품명    제조사     브랜드 서브 브랜드 포장형태  \\\n",
       "1856         할인점         판매액   A 제조사 추추라면 노브랜드 봉지  A 제조사    추추라면   노브랜드   봉지   \n",
       "1857         할인점         판매액   A 제조사 짜장라면 노브랜드 봉지  A 제조사    짜장라면   노브랜드   봉지   \n",
       "1858         할인점         판매액    A 제조사 맛라면 노브랜드 봉지  A 제조사     맛라면   노브랜드   봉지   \n",
       "1860         할인점         판매액   A 제조사 우리라면 얼큰한맛 봉지  A 제조사    우리라면   얼큰한맛   봉지   \n",
       "1862         할인점         판매액  A 제조사 육개장 라면 사발면 용기  A 제조사  육개장 라면    사발면   용기   \n",
       "...          ...         ...                  ...    ...     ...    ...  ...   \n",
       "12972  개인소형+일반수퍼  L/KG당 판매가격       A 제조사 기타 기타 봉지  A 제조사      기타     기타   봉지   \n",
       "12973  개인소형+일반수퍼  L/KG당 판매가격       A 제조사 기타 기타 봉지  A 제조사      기타     기타   봉지   \n",
       "12974  개인소형+일반수퍼  L/KG당 판매가격       A 제조사 기타 기타 봉지  A 제조사      기타     기타   봉지   \n",
       "12975  개인소형+일반수퍼  L/KG당 판매가격       A 제조사 기타 기타 봉지  A 제조사      기타     기타   봉지   \n",
       "12976  개인소형+일반수퍼  L/KG당 판매가격       A 제조사 기타 기타 봉지  A 제조사      기타     기타   봉지   \n",
       "\n",
       "      면 종류    JAN17    FEB17  ...    MAR19    APR19    MAY19    JUN19  \\\n",
       "1856   유탕면  2769.14  2373.54  ...  2839.28  1908.15  1907.44  2059.93   \n",
       "1857   유탕면   1318.9  1496.86  ...  1919.45  2165.57  1911.38  1900.45   \n",
       "1858   유탕면  1341.23  1220.51  ...  923.574  839.274   982.53  1336.46   \n",
       "1860   유탕면  1790.39  1317.92  ...   851.28   525.48  767.646   890.85   \n",
       "1862   유탕면  861.756  763.518  ...     1125  1025.87  678.612  778.398   \n",
       "...    ...      ...      ...  ...      ...      ...      ...      ...   \n",
       "12972  유탕면  924.242  933.873  ...      NaN      NaN  885.714      ERR   \n",
       "12973  유탕면      NaN      NaN  ...  1036.36  1102.04      ERR      NaN   \n",
       "12974  유탕면      NaN      NaN  ...      NaN      NaN      NaN      NaN   \n",
       "12975  유탕면      NaN      NaN  ...      ERR      NaN      NaN      NaN   \n",
       "12976  유탕면      NaN      NaN  ...      NaN  1380.71  1429.04  1398.73   \n",
       "\n",
       "         JUL19    AUG19    SEP19    OCT19    NOV19    DEC19  \n",
       "1856   2452.86  2485.75  1946.05  3016.61  1944.07  2052.48  \n",
       "1857   2076.98  2141.11  2219.31  2013.97  2041.52  1778.44  \n",
       "1858   803.862  1162.68  1152.31  974.214  1099.85  1378.93  \n",
       "1860   867.444  949.788  942.558  965.076  1223.35  1053.02  \n",
       "1862   847.422  1227.43   961.47  1042.17  828.984  754.998  \n",
       "...        ...      ...      ...      ...      ...      ...  \n",
       "12972      NaN      NaN      NaN      NaN      NaN      NaN  \n",
       "12973      NaN  958.333      ERR      NaN      NaN      NaN  \n",
       "12974      NaN      NaN      NaN      NaN      NaN      NaN  \n",
       "12975      NaN      NaN      NaN      NaN      NaN      NaN  \n",
       "12976  1404.03  1412.86  1375.66  1417.91  1464.29      ERR  \n",
       "\n",
       "[3000 rows x 44 columns]"
      ]
     },
     "execution_count": 41,
     "metadata": {},
     "output_type": "execute_result"
    }
   ],
   "source": [
    "data_A = data[data[\"제조사\"]==\"A 제조사\"]\n",
    "data_A"
   ]
  },
  {
   "cell_type": "code",
   "execution_count": 51,
   "metadata": {},
   "outputs": [
    {
     "data": {
      "text/plain": [
       "array(['A 제조사'], dtype=object)"
      ]
     },
     "execution_count": 51,
     "metadata": {},
     "output_type": "execute_result"
    }
   ],
   "source": [
    "data_A['제조사'].unique()"
   ]
  },
  {
   "cell_type": "code",
   "execution_count": 52,
   "metadata": {},
   "outputs": [
    {
     "data": {
      "text/plain": [
       "array(['전국', '할인점', '체인대형', '조합마트', '편의점', '개인대형', '개인소형+일반수퍼'],\n",
       "      dtype=object)"
      ]
     },
     "execution_count": 52,
     "metadata": {},
     "output_type": "execute_result"
    }
   ],
   "source": [
    "data_A['채널'].unique()"
   ]
  },
  {
   "cell_type": "code",
   "execution_count": 53,
   "metadata": {},
   "outputs": [
    {
     "data": {
      "text/plain": [
       "array(['판매액', '판매량 (UNIT)', 'WD SELLING DIST', 'L/KG당 판매가격'], dtype=object)"
      ]
     },
     "execution_count": 53,
     "metadata": {},
     "output_type": "execute_result"
    }
   ],
   "source": [
    "data_A['FACT'].unique()"
   ]
  },
  {
   "cell_type": "code",
   "execution_count": 42,
   "metadata": {},
   "outputs": [],
   "source": [
    "# 판매액 \n",
    "sales_rate_idx = data_A['FACT'] == '판매액'\n",
    "\n",
    "\n",
    "# 판매량\n",
    "sales_amount_idx = data_A['FACT'] == '판매량 (UNIT)'\n"
   ]
  },
  {
   "cell_type": "code",
   "execution_count": 43,
   "metadata": {},
   "outputs": [
    {
     "name": "stderr",
     "output_type": "stream",
     "text": [
      "C:\\Users\\student\\Anaconda3\\lib\\site-packages\\ipykernel_launcher.py:3: SettingWithCopyWarning: \n",
      "A value is trying to be set on a copy of a slice from a DataFrame.\n",
      "Try using .loc[row_indexer,col_indexer] = value instead\n",
      "\n",
      "See the caveats in the documentation: http://pandas.pydata.org/pandas-docs/stable/user_guide/indexing.html#returning-a-view-versus-a-copy\n",
      "  This is separate from the ipykernel package so we can avoid doing imports until\n",
      "C:\\Users\\student\\Anaconda3\\lib\\site-packages\\ipykernel_launcher.py:4: SettingWithCopyWarning: \n",
      "A value is trying to be set on a copy of a slice from a DataFrame.\n",
      "Try using .loc[row_indexer,col_indexer] = value instead\n",
      "\n",
      "See the caveats in the documentation: http://pandas.pydata.org/pandas-docs/stable/user_guide/indexing.html#returning-a-view-versus-a-copy\n",
      "  after removing the cwd from sys.path.\n"
     ]
    },
    {
     "data": {
      "text/plain": [
       "1856    33343.308\n",
       "1857    16623.810\n",
       "1858    15195.462\n",
       "1860    12236.124\n",
       "1862    10186.644\n",
       "Name: 판매총액, dtype: float64"
      ]
     },
     "execution_count": 43,
     "metadata": {},
     "output_type": "execute_result"
    }
   ],
   "source": [
    "import numpy as np\n",
    "\n",
    "data_A['판매총액'] = 0\n",
    "data_A['판매총액'] = data_A.loc[:, \"JAN18\":\"DEC18\"].fillna(0).replace(\"ERR\", 0).apply(np.sum, axis=1)\n",
    "data_A['판매총액'].head()\n"
   ]
  },
  {
   "cell_type": "code",
   "execution_count": 44,
   "metadata": {},
   "outputs": [
    {
     "name": "stdout",
     "output_type": "stream",
     "text": [
      "\n",
      "==========\n",
      "17 채널별 판매액\n",
      "==========\n",
      "채널\n",
      "개인대형         130507.866\n",
      "개인소형+일반수퍼    111929.028\n",
      "조합마트          57205.656\n",
      "체인대형          70919.274\n",
      "편의점          138554.544\n",
      "할인점          164404.812\n",
      "Name: 판매총액, dtype: float64\n",
      "\n",
      "==========\n",
      "17 채널별 판매량\n",
      "==========\n",
      "채널\n",
      "개인대형         162263.214\n",
      "개인소형+일반수퍼    128230.524\n",
      "조합마트          77750.088\n",
      "체인대형          96782.664\n",
      "편의점          137209.446\n",
      "할인점          227451.372\n",
      "Name: 판매총액, dtype: float64\n"
     ]
    }
   ],
   "source": [
    "# 채널별 \n",
    "sales_rate = data_A[sales_rate_idx]['판매총액'].groupby(data_A['채널'])\n",
    "print()\n",
    "print(\"=\"*10)\n",
    "print(\"18 채널별 판매액\")\n",
    "print(\"=\"*10)\n",
    "print(sales_rate.sum())\n",
    "\n",
    "sales_amount = data_A[sales_amount_idx]['판매총액'].groupby(data_A['채널'])\n",
    "print()\n",
    "print(\"=\"*10)\n",
    "print(\"18 채널별 판매량\")\n",
    "print(\"=\"*10)\n",
    "print(sales_amount.sum())"
   ]
  },
  {
   "cell_type": "code",
   "execution_count": 45,
   "metadata": {},
   "outputs": [
    {
     "data": {
      "text/plain": [
       "채널\n",
       "개인대형         162263.214\n",
       "개인소형+일반수퍼    128230.524\n",
       "조합마트          77750.088\n",
       "체인대형          96782.664\n",
       "편의점          137209.446\n",
       "할인점          227451.372\n",
       "Name: 판매총액, dtype: float64"
      ]
     },
     "execution_count": 45,
     "metadata": {},
     "output_type": "execute_result"
    }
   ],
   "source": [
    "sales_sum_18 = sales_rate.sum()\n",
    "sales_amount_18 = sales_amount.sum()\n",
    "sales_amount_18"
   ]
  },
  {
   "cell_type": "code",
   "execution_count": 19,
   "metadata": {},
   "outputs": [],
   "source": [
    "# 그래프"
   ]
  },
  {
   "cell_type": "code",
   "execution_count": 46,
   "metadata": {},
   "outputs": [],
   "source": [
    "%matplotlib inline\n",
    "import pandas as pd                # 데이터를 저장하고 처리하는 패키지\n",
    "import matplotlib as mpl           # 그래프를 그리는 패키지\n",
    "import matplotlib.pyplot as plt    # 그래프를 그리는 패키지"
   ]
  },
  {
   "cell_type": "code",
   "execution_count": 48,
   "metadata": {},
   "outputs": [
    {
     "data": {
      "text/plain": [
       "<matplotlib.legend.Legend at 0x1b2691d5988>"
      ]
     },
     "execution_count": 48,
     "metadata": {},
     "output_type": "execute_result"
    },
    {
     "data": {
      "image/png": "[encoded data removed]",
      "text/plain": [
       "<Figure size 864x288 with 1 Axes>"
      ]
     },
     "metadata": {
      "needs_background": "light"
     },
     "output_type": "display_data"
    }
   ],
   "source": [
    "font_name = mpl.font_manager.FontProperties(fname='C:/Windows/Fonts/malgun.ttf').get_name()\n",
    "mpl.rc('font', family=font_name)\n",
    "\n",
    "ax = sales_sum_18.plot(kind='bar', title='Y18_제조사A 채널별 판매액', figsize=(12, 4), legend=True, fontsize=12)\n",
    "ax.set_xlabel('채널별', fontsize=12)          # x축 정보 표시\n",
    "ax.legend(['판매액'], fontsize=12)    # 범례 지정"
   ]
  },
  {
   "cell_type": "code",
   "execution_count": 36,
   "metadata": {},
   "outputs": [
    {
     "data": {
      "text/plain": [
       "<matplotlib.legend.Legend at 0x25a42a08b08>"
      ]
     },
     "execution_count": 36,
     "metadata": {},
     "output_type": "execute_result"
    },
    {
     "data": {
      "image/png": "[encoded data removed]",
      "text/plain": [
       "<Figure size 864x288 with 1 Axes>"
      ]
     },
     "metadata": {
      "needs_background": "light"
     },
     "output_type": "display_data"
    }
   ],
   "source": [
    "font_name = mpl.font_manager.FontProperties(fname='C:/Windows/Fonts/malgun.ttf').get_name()\n",
    "mpl.rc('font', family=font_name)\n",
    "\n",
    "ax = sales_amount_18.plot(kind='bar', title='Y18_제조사A 채널별 판매량', figsize=(12, 4), legend=True, fontsize=12)\n",
    "ax.set_xlabel('채널별', fontsize=12)          # x축 정보 표시\n",
    "ax.legend(['판매량'], fontsize=12)    # 범례 지정"
   ]
  },
  {
   "cell_type": "code",
   "execution_count": 42,
   "metadata": {},
   "outputs": [
    {
     "data": {
      "text/plain": [
       "<matplotlib.legend.Legend at 0x25a42f41388>"
      ]
     },
     "execution_count": 42,
     "metadata": {},
     "output_type": "execute_result"
    },
    {
     "data": {
      "image/png": "[encoded data removed]",
      "text/plain": [
       "<Figure size 864x288 with 1 Axes>"
      ]
     },
     "metadata": {
      "needs_background": "light"
     },
     "output_type": "display_data"
    }
   ],
   "source": [
    "font_name = mpl.font_manager.FontProperties(fname='C:/Windows/Fonts/malgun.ttf').get_name()\n",
    "mpl.rc('font', family=font_name)\n",
    "\n",
    "ax = sales_sum_18.plot(kind='line', title='Y18_제조사A 채널별 판매액', figsize=(12, 4), legend=True, fontsize=12)\n",
    "ax.set_xlabel('채널별', fontsize=12)          # x축 정보 표시\n",
    "ax.legend(['판매액'], fontsize=12)    # 범례 지정"
   ]
  },
  {
   "cell_type": "code",
   "execution_count": 44,
   "metadata": {},
   "outputs": [
    {
     "data": {
      "text/plain": [
       "<matplotlib.legend.Legend at 0x25a460d08c8>"
      ]
     },
     "execution_count": 44,
     "metadata": {},
     "output_type": "execute_result"
    },
    {
     "data": {
      "image/png": "[encoded data removed]",
      "text/plain": [
       "<Figure size 864x288 with 1 Axes>"
      ]
     },
     "metadata": {
      "needs_background": "light"
     },
     "output_type": "display_data"
    }
   ],
   "source": [
    "font_name = mpl.font_manager.FontProperties(fname='C:/Windows/Fonts/malgun.ttf').get_name()\n",
    "mpl.rc('font', family=font_name)\n",
    "\n",
    "ax = sales_amount_18.plot(kind='line', title='Y18_제조사A 채널별 판매량', figsize=(12, 4), legend=True, fontsize=12)\n",
    "ax.set_xlabel('채널별', fontsize=12)          # x축 정보 표시\n",
    "ax.legend(['판매량'], fontsize=12)    # 범례 지정"
   ]
  },
  {
   "cell_type": "code",
   "execution_count": 33,
   "metadata": {},
   "outputs": [
    {
     "data": {
      "image/png": "[encoded data removed]",
      "text/plain": [
       "<Figure size 864x288 with 1 Axes>"
      ]
     },
     "metadata": {},
     "output_type": "display_data"
    }
   ],
   "source": [
    "font_name = mpl.font_manager.FontProperties(fname='C:/Windows/Fonts/malgun.ttf').get_name()\n",
    "mpl.rc('font', family=font_name)\n",
    "\n",
    "ax = sales_sum_18.plot(kind='pie', title='Y18_제조사A 채널별 판매액', figsize=(12, 4), legend=True, fontsize=12)"
   ]
  },
  {
   "cell_type": "code",
   "execution_count": 43,
   "metadata": {},
   "outputs": [
    {
     "data": {
      "image/png": "[encoded data removed]",
      "text/plain": [
       "<Figure size 864x288 with 1 Axes>"
      ]
     },
     "metadata": {},
     "output_type": "display_data"
    }
   ],
   "source": [
    "font_name = mpl.font_manager.FontProperties(fname='C:/Windows/Fonts/malgun.ttf').get_name()\n",
    "mpl.rc('font', family=font_name)\n",
    "\n",
    "ax = sales_amount_18.plot(kind='pie', title='Y18_제조사A 채널별 판매량', figsize=(12, 4), legend=True, fontsize=12)"
   ]
  },
  {
   "cell_type": "markdown",
   "metadata": {},
   "source": [
    "# 제조사 B"
   ]
  },
  {
   "cell_type": "code",
   "execution_count": 6,
   "metadata": {},
   "outputs": [
    {
     "data": {
      "text/html": [
       "<div>\n",
       "<style scoped>\n",
       "    .dataframe tbody tr th:only-of-type {\n",
       "        vertical-align: middle;\n",
       "    }\n",
       "\n",
       "    .dataframe tbody tr th {\n",
       "        vertical-align: top;\n",
       "    }\n",
       "\n",
       "    .dataframe thead th {\n",
       "        text-align: right;\n",
       "    }\n",
       "</style>\n",
       "<table border=\"1\" class=\"dataframe\">\n",
       "  <thead>\n",
       "    <tr style=\"text-align: right;\">\n",
       "      <th></th>\n",
       "      <th>채널</th>\n",
       "      <th>FACT</th>\n",
       "      <th>제품명</th>\n",
       "      <th>제조사</th>\n",
       "      <th>브랜드</th>\n",
       "      <th>서브 브랜드</th>\n",
       "      <th>포장형태</th>\n",
       "      <th>면 종류</th>\n",
       "      <th>JAN17</th>\n",
       "      <th>FEB17</th>\n",
       "      <th>...</th>\n",
       "      <th>MAR19</th>\n",
       "      <th>APR19</th>\n",
       "      <th>MAY19</th>\n",
       "      <th>JUN19</th>\n",
       "      <th>JUL19</th>\n",
       "      <th>AUG19</th>\n",
       "      <th>SEP19</th>\n",
       "      <th>OCT19</th>\n",
       "      <th>NOV19</th>\n",
       "      <th>DEC19</th>\n",
       "    </tr>\n",
       "  </thead>\n",
       "  <tbody>\n",
       "    <tr>\n",
       "      <td>1861</td>\n",
       "      <td>할인점</td>\n",
       "      <td>판매액</td>\n",
       "      <td>B 제조사 얼큰라면 노브랜드 봉지</td>\n",
       "      <td>B 제조사</td>\n",
       "      <td>얼큰라면</td>\n",
       "      <td>노브랜드</td>\n",
       "      <td>봉지</td>\n",
       "      <td>유탕면</td>\n",
       "      <td>610.23</td>\n",
       "      <td>739.368</td>\n",
       "      <td>...</td>\n",
       "      <td>578.382</td>\n",
       "      <td>575.412</td>\n",
       "      <td>684.258</td>\n",
       "      <td>629.43</td>\n",
       "      <td>654.612</td>\n",
       "      <td>639.456</td>\n",
       "      <td>671.4</td>\n",
       "      <td>591.15</td>\n",
       "      <td>636.174</td>\n",
       "      <td>841.776</td>\n",
       "    </tr>\n",
       "    <tr>\n",
       "      <td>1873</td>\n",
       "      <td>할인점</td>\n",
       "      <td>판매액</td>\n",
       "      <td>B 제조사 얼큰비빔면 노브랜드 봉지</td>\n",
       "      <td>B 제조사</td>\n",
       "      <td>얼큰비빔면</td>\n",
       "      <td>노브랜드</td>\n",
       "      <td>봉지</td>\n",
       "      <td>유탕면</td>\n",
       "      <td>358.314</td>\n",
       "      <td>358.494</td>\n",
       "      <td>...</td>\n",
       "      <td>243.378</td>\n",
       "      <td>205.146</td>\n",
       "      <td>208.566</td>\n",
       "      <td>214.002</td>\n",
       "      <td>261.528</td>\n",
       "      <td>237.834</td>\n",
       "      <td>236.448</td>\n",
       "      <td>260.55</td>\n",
       "      <td>247.332</td>\n",
       "      <td>285.336</td>\n",
       "    </tr>\n",
       "    <tr>\n",
       "      <td>1897</td>\n",
       "      <td>할인점</td>\n",
       "      <td>판매액</td>\n",
       "      <td>B 제조사 국민짜장 노브랜드 봉지</td>\n",
       "      <td>B 제조사</td>\n",
       "      <td>국민짜장</td>\n",
       "      <td>노브랜드</td>\n",
       "      <td>봉지</td>\n",
       "      <td>유탕면</td>\n",
       "      <td>NaN</td>\n",
       "      <td>NaN</td>\n",
       "      <td>...</td>\n",
       "      <td>NaN</td>\n",
       "      <td>NaN</td>\n",
       "      <td>NaN</td>\n",
       "      <td>NaN</td>\n",
       "      <td>NaN</td>\n",
       "      <td>188.784</td>\n",
       "      <td>154.44</td>\n",
       "      <td>151.746</td>\n",
       "      <td>126.66</td>\n",
       "      <td>137.916</td>\n",
       "    </tr>\n",
       "    <tr>\n",
       "      <td>1899</td>\n",
       "      <td>할인점</td>\n",
       "      <td>판매액</td>\n",
       "      <td>B 제조사 얼큰비빔면 크림 볶음면 봉지</td>\n",
       "      <td>B 제조사</td>\n",
       "      <td>얼큰비빔면</td>\n",
       "      <td>크림 볶음면</td>\n",
       "      <td>봉지</td>\n",
       "      <td>유탕면</td>\n",
       "      <td>NaN</td>\n",
       "      <td>NaN</td>\n",
       "      <td>...</td>\n",
       "      <td>211.932</td>\n",
       "      <td>135.192</td>\n",
       "      <td>128.316</td>\n",
       "      <td>119.364</td>\n",
       "      <td>138.42</td>\n",
       "      <td>131.868</td>\n",
       "      <td>113.814</td>\n",
       "      <td>128.982</td>\n",
       "      <td>140.268</td>\n",
       "      <td>125.736</td>\n",
       "    </tr>\n",
       "    <tr>\n",
       "      <td>1903</td>\n",
       "      <td>할인점</td>\n",
       "      <td>판매액</td>\n",
       "      <td>B 제조사 얼큰라면 매운맛 봉지</td>\n",
       "      <td>B 제조사</td>\n",
       "      <td>얼큰라면</td>\n",
       "      <td>매운맛</td>\n",
       "      <td>봉지</td>\n",
       "      <td>유탕면</td>\n",
       "      <td>NaN</td>\n",
       "      <td>NaN</td>\n",
       "      <td>...</td>\n",
       "      <td>66.006</td>\n",
       "      <td>52.926</td>\n",
       "      <td>55.584</td>\n",
       "      <td>45.012</td>\n",
       "      <td>46.824</td>\n",
       "      <td>65.34</td>\n",
       "      <td>78.51</td>\n",
       "      <td>79.08</td>\n",
       "      <td>67.614</td>\n",
       "      <td>114.456</td>\n",
       "    </tr>\n",
       "    <tr>\n",
       "      <td>...</td>\n",
       "      <td>...</td>\n",
       "      <td>...</td>\n",
       "      <td>...</td>\n",
       "      <td>...</td>\n",
       "      <td>...</td>\n",
       "      <td>...</td>\n",
       "      <td>...</td>\n",
       "      <td>...</td>\n",
       "      <td>...</td>\n",
       "      <td>...</td>\n",
       "      <td>...</td>\n",
       "      <td>...</td>\n",
       "      <td>...</td>\n",
       "      <td>...</td>\n",
       "      <td>...</td>\n",
       "      <td>...</td>\n",
       "      <td>...</td>\n",
       "      <td>...</td>\n",
       "      <td>...</td>\n",
       "      <td>...</td>\n",
       "      <td>...</td>\n",
       "    </tr>\n",
       "    <tr>\n",
       "      <td>12939</td>\n",
       "      <td>개인소형+일반수퍼</td>\n",
       "      <td>L/KG당 판매가격</td>\n",
       "      <td>B 제조사 기타 기타 봉지</td>\n",
       "      <td>B 제조사</td>\n",
       "      <td>기타</td>\n",
       "      <td>기타</td>\n",
       "      <td>봉지</td>\n",
       "      <td>유탕면</td>\n",
       "      <td>NaN</td>\n",
       "      <td>NaN</td>\n",
       "      <td>...</td>\n",
       "      <td>1384.62</td>\n",
       "      <td>1448.6</td>\n",
       "      <td>1350</td>\n",
       "      <td>ERR</td>\n",
       "      <td>NaN</td>\n",
       "      <td>NaN</td>\n",
       "      <td>NaN</td>\n",
       "      <td>NaN</td>\n",
       "      <td>NaN</td>\n",
       "      <td>NaN</td>\n",
       "    </tr>\n",
       "    <tr>\n",
       "      <td>12940</td>\n",
       "      <td>개인소형+일반수퍼</td>\n",
       "      <td>L/KG당 판매가격</td>\n",
       "      <td>B 제조사 계란탕면 노브랜드 봉지</td>\n",
       "      <td>B 제조사</td>\n",
       "      <td>계란탕면</td>\n",
       "      <td>노브랜드</td>\n",
       "      <td>봉지</td>\n",
       "      <td>유탕면</td>\n",
       "      <td>NaN</td>\n",
       "      <td>NaN</td>\n",
       "      <td>...</td>\n",
       "      <td>1355.28</td>\n",
       "      <td>1420.35</td>\n",
       "      <td>1424.86</td>\n",
       "      <td>1478.72</td>\n",
       "      <td>ERR</td>\n",
       "      <td>NaN</td>\n",
       "      <td>NaN</td>\n",
       "      <td>NaN</td>\n",
       "      <td>NaN</td>\n",
       "      <td>NaN</td>\n",
       "    </tr>\n",
       "    <tr>\n",
       "      <td>12941</td>\n",
       "      <td>개인소형+일반수퍼</td>\n",
       "      <td>L/KG당 판매가격</td>\n",
       "      <td>B 제조사 기타 기타 봉지</td>\n",
       "      <td>B 제조사</td>\n",
       "      <td>기타</td>\n",
       "      <td>기타</td>\n",
       "      <td>봉지</td>\n",
       "      <td>유탕면</td>\n",
       "      <td>NaN</td>\n",
       "      <td>NaN</td>\n",
       "      <td>...</td>\n",
       "      <td>NaN</td>\n",
       "      <td>NaN</td>\n",
       "      <td>1354.17</td>\n",
       "      <td>1117.2</td>\n",
       "      <td>972.973</td>\n",
       "      <td>1054.58</td>\n",
       "      <td>1018.18</td>\n",
       "      <td>692.737</td>\n",
       "      <td>867.052</td>\n",
       "      <td>ERR</td>\n",
       "    </tr>\n",
       "    <tr>\n",
       "      <td>12942</td>\n",
       "      <td>개인소형+일반수퍼</td>\n",
       "      <td>L/KG당 판매가격</td>\n",
       "      <td>B 제조사 기타 기타 봉지</td>\n",
       "      <td>B 제조사</td>\n",
       "      <td>기타</td>\n",
       "      <td>기타</td>\n",
       "      <td>봉지</td>\n",
       "      <td>유탕면</td>\n",
       "      <td>NaN</td>\n",
       "      <td>NaN</td>\n",
       "      <td>...</td>\n",
       "      <td>NaN</td>\n",
       "      <td>NaN</td>\n",
       "      <td>NaN</td>\n",
       "      <td>NaN</td>\n",
       "      <td>NaN</td>\n",
       "      <td>NaN</td>\n",
       "      <td>NaN</td>\n",
       "      <td>NaN</td>\n",
       "      <td>NaN</td>\n",
       "      <td>NaN</td>\n",
       "    </tr>\n",
       "    <tr>\n",
       "      <td>12943</td>\n",
       "      <td>개인소형+일반수퍼</td>\n",
       "      <td>L/KG당 판매가격</td>\n",
       "      <td>B 제조사 기타 기타 봉지</td>\n",
       "      <td>B 제조사</td>\n",
       "      <td>기타</td>\n",
       "      <td>기타</td>\n",
       "      <td>봉지</td>\n",
       "      <td>유탕면</td>\n",
       "      <td>NaN</td>\n",
       "      <td>NaN</td>\n",
       "      <td>...</td>\n",
       "      <td>NaN</td>\n",
       "      <td>NaN</td>\n",
       "      <td>NaN</td>\n",
       "      <td>NaN</td>\n",
       "      <td>NaN</td>\n",
       "      <td>NaN</td>\n",
       "      <td>NaN</td>\n",
       "      <td>NaN</td>\n",
       "      <td>NaN</td>\n",
       "      <td>NaN</td>\n",
       "    </tr>\n",
       "  </tbody>\n",
       "</table>\n",
       "<p>3144 rows × 44 columns</p>\n",
       "</div>"
      ],
      "text/plain": [
       "              채널        FACT                    제품명    제조사    브랜드  서브 브랜드  \\\n",
       "1861         할인점         판매액     B 제조사 얼큰라면 노브랜드 봉지  B 제조사   얼큰라면    노브랜드   \n",
       "1873         할인점         판매액    B 제조사 얼큰비빔면 노브랜드 봉지  B 제조사  얼큰비빔면    노브랜드   \n",
       "1897         할인점         판매액     B 제조사 국민짜장 노브랜드 봉지  B 제조사   국민짜장    노브랜드   \n",
       "1899         할인점         판매액  B 제조사 얼큰비빔면 크림 볶음면 봉지  B 제조사  얼큰비빔면  크림 볶음면   \n",
       "1903         할인점         판매액      B 제조사 얼큰라면 매운맛 봉지  B 제조사   얼큰라면     매운맛   \n",
       "...          ...         ...                    ...    ...    ...     ...   \n",
       "12939  개인소형+일반수퍼  L/KG당 판매가격         B 제조사 기타 기타 봉지  B 제조사     기타      기타   \n",
       "12940  개인소형+일반수퍼  L/KG당 판매가격     B 제조사 계란탕면 노브랜드 봉지  B 제조사   계란탕면    노브랜드   \n",
       "12941  개인소형+일반수퍼  L/KG당 판매가격         B 제조사 기타 기타 봉지  B 제조사     기타      기타   \n",
       "12942  개인소형+일반수퍼  L/KG당 판매가격         B 제조사 기타 기타 봉지  B 제조사     기타      기타   \n",
       "12943  개인소형+일반수퍼  L/KG당 판매가격         B 제조사 기타 기타 봉지  B 제조사     기타      기타   \n",
       "\n",
       "      포장형태 면 종류    JAN17    FEB17  ...    MAR19    APR19    MAY19    JUN19  \\\n",
       "1861    봉지  유탕면   610.23  739.368  ...  578.382  575.412  684.258   629.43   \n",
       "1873    봉지  유탕면  358.314  358.494  ...  243.378  205.146  208.566  214.002   \n",
       "1897    봉지  유탕면      NaN      NaN  ...      NaN      NaN      NaN      NaN   \n",
       "1899    봉지  유탕면      NaN      NaN  ...  211.932  135.192  128.316  119.364   \n",
       "1903    봉지  유탕면      NaN      NaN  ...   66.006   52.926   55.584   45.012   \n",
       "...    ...  ...      ...      ...  ...      ...      ...      ...      ...   \n",
       "12939   봉지  유탕면      NaN      NaN  ...  1384.62   1448.6     1350      ERR   \n",
       "12940   봉지  유탕면      NaN      NaN  ...  1355.28  1420.35  1424.86  1478.72   \n",
       "12941   봉지  유탕면      NaN      NaN  ...      NaN      NaN  1354.17   1117.2   \n",
       "12942   봉지  유탕면      NaN      NaN  ...      NaN      NaN      NaN      NaN   \n",
       "12943   봉지  유탕면      NaN      NaN  ...      NaN      NaN      NaN      NaN   \n",
       "\n",
       "         JUL19    AUG19    SEP19    OCT19    NOV19    DEC19  \n",
       "1861   654.612  639.456    671.4   591.15  636.174  841.776  \n",
       "1873   261.528  237.834  236.448   260.55  247.332  285.336  \n",
       "1897       NaN  188.784   154.44  151.746   126.66  137.916  \n",
       "1899    138.42  131.868  113.814  128.982  140.268  125.736  \n",
       "1903    46.824    65.34    78.51    79.08   67.614  114.456  \n",
       "...        ...      ...      ...      ...      ...      ...  \n",
       "12939      NaN      NaN      NaN      NaN      NaN      NaN  \n",
       "12940      ERR      NaN      NaN      NaN      NaN      NaN  \n",
       "12941  972.973  1054.58  1018.18  692.737  867.052      ERR  \n",
       "12942      NaN      NaN      NaN      NaN      NaN      NaN  \n",
       "12943      NaN      NaN      NaN      NaN      NaN      NaN  \n",
       "\n",
       "[3144 rows x 44 columns]"
      ]
     },
     "execution_count": 6,
     "metadata": {},
     "output_type": "execute_result"
    }
   ],
   "source": [
    "data_B = data[data[\"제조사\"]==\"B 제조사\"]\n",
    "data_B"
   ]
  },
  {
   "cell_type": "code",
   "execution_count": 7,
   "metadata": {},
   "outputs": [],
   "source": [
    "# 판매액 \n",
    "sales_rate_idx_B = data_B['FACT'] == '판매액'\n",
    "\n",
    "\n",
    "# 판매량\n",
    "sales_amount_idx_B = data_B['FACT'] == '판매량 (UNIT)'"
   ]
  },
  {
   "cell_type": "code",
   "execution_count": 8,
   "metadata": {},
   "outputs": [
    {
     "name": "stderr",
     "output_type": "stream",
     "text": [
      "C:\\Users\\student\\Anaconda3\\lib\\site-packages\\ipykernel_launcher.py:3: SettingWithCopyWarning: \n",
      "A value is trying to be set on a copy of a slice from a DataFrame.\n",
      "Try using .loc[row_indexer,col_indexer] = value instead\n",
      "\n",
      "See the caveats in the documentation: http://pandas.pydata.org/pandas-docs/stable/user_guide/indexing.html#returning-a-view-versus-a-copy\n",
      "  This is separate from the ipykernel package so we can avoid doing imports until\n",
      "C:\\Users\\student\\Anaconda3\\lib\\site-packages\\ipykernel_launcher.py:4: SettingWithCopyWarning: \n",
      "A value is trying to be set on a copy of a slice from a DataFrame.\n",
      "Try using .loc[row_indexer,col_indexer] = value instead\n",
      "\n",
      "See the caveats in the documentation: http://pandas.pydata.org/pandas-docs/stable/user_guide/indexing.html#returning-a-view-versus-a-copy\n",
      "  after removing the cwd from sys.path.\n"
     ]
    },
    {
     "data": {
      "text/plain": [
       "1861    7875.606\n",
       "1873    3414.510\n",
       "1897       0.000\n",
       "1899       0.000\n",
       "1903     902.970\n",
       "Name: 판매총액, dtype: float64"
      ]
     },
     "execution_count": 8,
     "metadata": {},
     "output_type": "execute_result"
    }
   ],
   "source": [
    "import numpy as np\n",
    "\n",
    "data_B['판매총액'] = 0\n",
    "data_B['판매총액'] = data_B.loc[:, \"JAN18\":\"DEC18\"].fillna(0).replace(\"ERR\", 0).apply(np.sum, axis=1)\n",
    "data_B['판매총액'].head()"
   ]
  },
  {
   "cell_type": "code",
   "execution_count": 25,
   "metadata": {},
   "outputs": [
    {
     "name": "stdout",
     "output_type": "stream",
     "text": [
      "\n",
      "==========\n",
      "17 채널별 판매액\n",
      "==========\n",
      "채널\n",
      "개인대형         30357.438\n",
      "개인소형+일반수퍼    20386.524\n",
      "조합마트         10212.150\n",
      "체인대형         10761.714\n",
      "편의점          35545.446\n",
      "할인점          26602.842\n",
      "Name: 판매총액, dtype: float64\n",
      "\n",
      "==========\n",
      "17 채널별 판매량\n",
      "==========\n",
      "채널\n",
      "개인대형         40558.608\n",
      "개인소형+일반수퍼    24962.070\n",
      "조합마트         15322.008\n",
      "체인대형         15627.510\n",
      "편의점          29234.712\n",
      "할인점          41872.830\n",
      "Name: 판매총액, dtype: float64\n"
     ]
    }
   ],
   "source": [
    "# 채널별 \n",
    "sales_rate_B = data_B[sales_rate_idx_B]['판매총액'].groupby(data_B['채널'])\n",
    "print()\n",
    "print(\"=\"*10)\n",
    "print(\"18 채널별 판매액\")\n",
    "print(\"=\"*10)\n",
    "print(sales_rate_B.sum())\n",
    "\n",
    "sales_amount_B = data_B[sales_amount_idx_B]['판매총액'].groupby(data_B['채널'])\n",
    "print()\n",
    "print(\"=\"*10)\n",
    "print(\"18 채널별 판매량\")\n",
    "print(\"=\"*10)\n",
    "print(sales_amount_B.sum())"
   ]
  },
  {
   "cell_type": "code",
   "execution_count": 26,
   "metadata": {},
   "outputs": [
    {
     "data": {
      "text/plain": [
       "채널\n",
       "개인대형         40558.608\n",
       "개인소형+일반수퍼    24962.070\n",
       "조합마트         15322.008\n",
       "체인대형         15627.510\n",
       "편의점          29234.712\n",
       "할인점          41872.830\n",
       "Name: 판매총액, dtype: float64"
      ]
     },
     "execution_count": 26,
     "metadata": {},
     "output_type": "execute_result"
    }
   ],
   "source": [
    "sales_sum_18_B = sales_rate_B.sum()\n",
    "sales_amount_18_B = sales_amount_B.sum()\n",
    "sales_amount_18_B"
   ]
  },
  {
   "cell_type": "code",
   "execution_count": 12,
   "metadata": {},
   "outputs": [],
   "source": [
    "%matplotlib inline\n",
    "import pandas as pd                # 데이터를 저장하고 처리하는 패키지\n",
    "import matplotlib as mpl           # 그래프를 그리는 패키지\n",
    "import matplotlib.pyplot as plt    # 그래프를 그리는 패키지"
   ]
  },
  {
   "cell_type": "code",
   "execution_count": 13,
   "metadata": {},
   "outputs": [
    {
     "data": {
      "text/plain": [
       "<matplotlib.legend.Legend at 0x1b26d13c388>"
      ]
     },
     "execution_count": 13,
     "metadata": {},
     "output_type": "execute_result"
    },
    {
     "data": {
      "image/png": "[encoded data removed]",
      "text/plain": [
       "<Figure size 864x288 with 1 Axes>"
      ]
     },
     "metadata": {
      "needs_background": "light"
     },
     "output_type": "display_data"
    }
   ],
   "source": [
    "font_name = mpl.font_manager.FontProperties(fname='C:/Windows/Fonts/malgun.ttf').get_name()\n",
    "mpl.rc('font', family=font_name)\n",
    "\n",
    "ax = sales_sum_18_B.plot(kind='bar', title='Y18_제조사B 채널별 판매액', figsize=(12, 4), legend=True, fontsize=12)\n",
    "ax.set_xlabel('채널별', fontsize=12)          # x축 정보 표시\n",
    "ax.legend(['판매액'], fontsize=12)    # 범례 지정"
   ]
  },
  {
   "cell_type": "code",
   "execution_count": 14,
   "metadata": {},
   "outputs": [
    {
     "data": {
      "text/plain": [
       "<matplotlib.legend.Legend at 0x1b26d223108>"
      ]
     },
     "execution_count": 14,
     "metadata": {},
     "output_type": "execute_result"
    },
    {
     "data": {
      "image/png": "[encoded data removed]",
      "text/plain": [
       "<Figure size 864x288 with 1 Axes>"
      ]
     },
     "metadata": {
      "needs_background": "light"
     },
     "output_type": "display_data"
    }
   ],
   "source": [
    "font_name = mpl.font_manager.FontProperties(fname='C:/Windows/Fonts/malgun.ttf').get_name()\n",
    "mpl.rc('font', family=font_name)\n",
    "\n",
    "ax = sales_amount_18_B.plot(kind='bar', title='Y18_제조사B 채널별 판매량', figsize=(12, 4), legend=True, fontsize=12)\n",
    "ax.set_xlabel('채널별', fontsize=12)          # x축 정보 표시\n",
    "ax.legend(['판매량'], fontsize=12)    # 범례 지정"
   ]
  },
  {
   "cell_type": "code",
   "execution_count": 15,
   "metadata": {},
   "outputs": [
    {
     "data": {
      "text/plain": [
       "<matplotlib.legend.Legend at 0x1b26da050c8>"
      ]
     },
     "execution_count": 15,
     "metadata": {},
     "output_type": "execute_result"
    },
    {
     "data": {
      "image/png": "[encoded data removed]",
      "text/plain": [
       "<Figure size 864x288 with 1 Axes>"
      ]
     },
     "metadata": {
      "needs_background": "light"
     },
     "output_type": "display_data"
    }
   ],
   "source": [
    "font_name = mpl.font_manager.FontProperties(fname='C:/Windows/Fonts/malgun.ttf').get_name()\n",
    "mpl.rc('font', family=font_name)\n",
    "\n",
    "ax = sales_sum_18_B.plot(kind='line', title='Y18_제조사B 채널별 판매액', figsize=(12, 4), legend=True, fontsize=12)\n",
    "ax.set_xlabel('채널별', fontsize=12)          # x축 정보 표시\n",
    "ax.legend(['판매액'], fontsize=12)    # 범례 지정"
   ]
  },
  {
   "cell_type": "code",
   "execution_count": 17,
   "metadata": {},
   "outputs": [
    {
     "data": {
      "text/plain": [
       "<matplotlib.legend.Legend at 0x1b26da1a208>"
      ]
     },
     "execution_count": 17,
     "metadata": {},
     "output_type": "execute_result"
    },
    {
     "data": {
      "image/png": "[encoded data removed]",
      "text/plain": [
       "<Figure size 864x288 with 1 Axes>"
      ]
     },
     "metadata": {
      "needs_background": "light"
     },
     "output_type": "display_data"
    }
   ],
   "source": [
    "font_name = mpl.font_manager.FontProperties(fname='C:/Windows/Fonts/malgun.ttf').get_name()\n",
    "mpl.rc('font', family=font_name)\n",
    "\n",
    "ax = sales_amount_18_B.plot(kind='line', title='Y18_제조사B 채널별 판매량', figsize=(12, 4), legend=True, fontsize=12)\n",
    "ax.set_xlabel('채널별', fontsize=12)          # x축 정보 표시\n",
    "ax.legend(['판매량'], fontsize=12)    # 범례 지정"
   ]
  },
  {
   "cell_type": "code",
   "execution_count": 18,
   "metadata": {},
   "outputs": [
    {
     "data": {
      "image/png": "[encoded data removed]",
      "text/plain": [
       "<Figure size 864x288 with 1 Axes>"
      ]
     },
     "metadata": {},
     "output_type": "display_data"
    }
   ],
   "source": [
    "font_name = mpl.font_manager.FontProperties(fname='C:/Windows/Fonts/malgun.ttf').get_name()\n",
    "mpl.rc('font', family=font_name)\n",
    "\n",
    "ax = sales_sum_18_B.plot(kind='pie', title='Y18_제조사B 채널별 판매액', figsize=(12, 4), legend=True, fontsize=12)"
   ]
  },
  {
   "cell_type": "code",
   "execution_count": 19,
   "metadata": {},
   "outputs": [
    {
     "data": {
      "image/png": "[encoded data removed]",
      "text/plain": [
       "<Figure size 864x288 with 1 Axes>"
      ]
     },
     "metadata": {},
     "output_type": "display_data"
    }
   ],
   "source": [
    "font_name = mpl.font_manager.FontProperties(fname='C:/Windows/Fonts/malgun.ttf').get_name()\n",
    "mpl.rc('font', family=font_name)\n",
    "\n",
    "ax = sales_amount_18_B.plot(kind='pie', title='Y18_제조사B 채널별 판매량', figsize=(12, 4), legend=True, fontsize=12)"
   ]
  },
  {
   "cell_type": "markdown",
   "metadata": {},
   "source": [
    "# 제조사 C"
   ]
  },
  {
   "cell_type": "code",
   "execution_count": 20,
   "metadata": {},
   "outputs": [
    {
     "data": {
      "text/html": [
       "<div>\n",
       "<style scoped>\n",
       "    .dataframe tbody tr th:only-of-type {\n",
       "        vertical-align: middle;\n",
       "    }\n",
       "\n",
       "    .dataframe tbody tr th {\n",
       "        vertical-align: top;\n",
       "    }\n",
       "\n",
       "    .dataframe thead th {\n",
       "        text-align: right;\n",
       "    }\n",
       "</style>\n",
       "<table border=\"1\" class=\"dataframe\">\n",
       "  <thead>\n",
       "    <tr style=\"text-align: right;\">\n",
       "      <th></th>\n",
       "      <th>채널</th>\n",
       "      <th>FACT</th>\n",
       "      <th>제품명</th>\n",
       "      <th>제조사</th>\n",
       "      <th>브랜드</th>\n",
       "      <th>서브 브랜드</th>\n",
       "      <th>포장형태</th>\n",
       "      <th>면 종류</th>\n",
       "      <th>JAN17</th>\n",
       "      <th>FEB17</th>\n",
       "      <th>...</th>\n",
       "      <th>MAR19</th>\n",
       "      <th>APR19</th>\n",
       "      <th>MAY19</th>\n",
       "      <th>JUN19</th>\n",
       "      <th>JUL19</th>\n",
       "      <th>AUG19</th>\n",
       "      <th>SEP19</th>\n",
       "      <th>OCT19</th>\n",
       "      <th>NOV19</th>\n",
       "      <th>DEC19</th>\n",
       "    </tr>\n",
       "  </thead>\n",
       "  <tbody>\n",
       "    <tr>\n",
       "      <td>1859</td>\n",
       "      <td>할인점</td>\n",
       "      <td>판매액</td>\n",
       "      <td>C 제조사 강라면 매운맛 봉지</td>\n",
       "      <td>C 제조사</td>\n",
       "      <td>강라면</td>\n",
       "      <td>매운맛</td>\n",
       "      <td>봉지</td>\n",
       "      <td>유탕면</td>\n",
       "      <td>1236.66</td>\n",
       "      <td>1191.45</td>\n",
       "      <td>...</td>\n",
       "      <td>1373.32</td>\n",
       "      <td>1438.78</td>\n",
       "      <td>1213.99</td>\n",
       "      <td>1195.61</td>\n",
       "      <td>1242.34</td>\n",
       "      <td>1402.44</td>\n",
       "      <td>1212.81</td>\n",
       "      <td>1099.52</td>\n",
       "      <td>1181.41</td>\n",
       "      <td>1222.35</td>\n",
       "    </tr>\n",
       "    <tr>\n",
       "      <td>1864</td>\n",
       "      <td>할인점</td>\n",
       "      <td>판매액</td>\n",
       "      <td>C 제조사 짬뽕라면 노브랜드 봉지</td>\n",
       "      <td>C 제조사</td>\n",
       "      <td>짬뽕라면</td>\n",
       "      <td>노브랜드</td>\n",
       "      <td>봉지</td>\n",
       "      <td>유탕면</td>\n",
       "      <td>1234.96</td>\n",
       "      <td>817.674</td>\n",
       "      <td>...</td>\n",
       "      <td>217.56</td>\n",
       "      <td>141.258</td>\n",
       "      <td>140.856</td>\n",
       "      <td>148.164</td>\n",
       "      <td>164.334</td>\n",
       "      <td>276.888</td>\n",
       "      <td>270.72</td>\n",
       "      <td>259.008</td>\n",
       "      <td>511.464</td>\n",
       "      <td>710.706</td>\n",
       "    </tr>\n",
       "    <tr>\n",
       "      <td>1865</td>\n",
       "      <td>할인점</td>\n",
       "      <td>판매액</td>\n",
       "      <td>C 제조사 강라면 순한맛 봉지</td>\n",
       "      <td>C 제조사</td>\n",
       "      <td>강라면</td>\n",
       "      <td>순한맛</td>\n",
       "      <td>봉지</td>\n",
       "      <td>유탕면</td>\n",
       "      <td>790.482</td>\n",
       "      <td>742.392</td>\n",
       "      <td>...</td>\n",
       "      <td>785.4</td>\n",
       "      <td>797.904</td>\n",
       "      <td>671.64</td>\n",
       "      <td>668.622</td>\n",
       "      <td>691.896</td>\n",
       "      <td>791.196</td>\n",
       "      <td>643.278</td>\n",
       "      <td>630.972</td>\n",
       "      <td>574.836</td>\n",
       "      <td>709.956</td>\n",
       "    </tr>\n",
       "    <tr>\n",
       "      <td>1870</td>\n",
       "      <td>할인점</td>\n",
       "      <td>판매액</td>\n",
       "      <td>C 제조사 강라면 순한맛 컵 용기</td>\n",
       "      <td>C 제조사</td>\n",
       "      <td>강라면</td>\n",
       "      <td>순한맛 컵</td>\n",
       "      <td>용기</td>\n",
       "      <td>유탕면</td>\n",
       "      <td>268.968</td>\n",
       "      <td>232.35</td>\n",
       "      <td>...</td>\n",
       "      <td>280.404</td>\n",
       "      <td>247.476</td>\n",
       "      <td>283.722</td>\n",
       "      <td>359.16</td>\n",
       "      <td>384.642</td>\n",
       "      <td>400.8</td>\n",
       "      <td>306.732</td>\n",
       "      <td>279.198</td>\n",
       "      <td>260.856</td>\n",
       "      <td>307.416</td>\n",
       "    </tr>\n",
       "    <tr>\n",
       "      <td>1871</td>\n",
       "      <td>할인점</td>\n",
       "      <td>판매액</td>\n",
       "      <td>C 제조사 강라면 매운맛 컵 용기</td>\n",
       "      <td>C 제조사</td>\n",
       "      <td>강라면</td>\n",
       "      <td>매운맛 컵</td>\n",
       "      <td>용기</td>\n",
       "      <td>유탕면</td>\n",
       "      <td>371.178</td>\n",
       "      <td>298.566</td>\n",
       "      <td>...</td>\n",
       "      <td>302.856</td>\n",
       "      <td>266.082</td>\n",
       "      <td>297.312</td>\n",
       "      <td>384.642</td>\n",
       "      <td>363.24</td>\n",
       "      <td>381.294</td>\n",
       "      <td>327.108</td>\n",
       "      <td>280.314</td>\n",
       "      <td>266.466</td>\n",
       "      <td>304.638</td>\n",
       "    </tr>\n",
       "    <tr>\n",
       "      <td>...</td>\n",
       "      <td>...</td>\n",
       "      <td>...</td>\n",
       "      <td>...</td>\n",
       "      <td>...</td>\n",
       "      <td>...</td>\n",
       "      <td>...</td>\n",
       "      <td>...</td>\n",
       "      <td>...</td>\n",
       "      <td>...</td>\n",
       "      <td>...</td>\n",
       "      <td>...</td>\n",
       "      <td>...</td>\n",
       "      <td>...</td>\n",
       "      <td>...</td>\n",
       "      <td>...</td>\n",
       "      <td>...</td>\n",
       "      <td>...</td>\n",
       "      <td>...</td>\n",
       "      <td>...</td>\n",
       "      <td>...</td>\n",
       "      <td>...</td>\n",
       "    </tr>\n",
       "    <tr>\n",
       "      <td>12961</td>\n",
       "      <td>개인소형+일반수퍼</td>\n",
       "      <td>L/KG당 판매가격</td>\n",
       "      <td>C 제조사 기타 기타 봉지</td>\n",
       "      <td>C 제조사</td>\n",
       "      <td>기타</td>\n",
       "      <td>기타</td>\n",
       "      <td>봉지</td>\n",
       "      <td>유탕면</td>\n",
       "      <td>NaN</td>\n",
       "      <td>NaN</td>\n",
       "      <td>...</td>\n",
       "      <td>NaN</td>\n",
       "      <td>NaN</td>\n",
       "      <td>NaN</td>\n",
       "      <td>NaN</td>\n",
       "      <td>NaN</td>\n",
       "      <td>NaN</td>\n",
       "      <td>NaN</td>\n",
       "      <td>NaN</td>\n",
       "      <td>NaN</td>\n",
       "      <td>NaN</td>\n",
       "    </tr>\n",
       "    <tr>\n",
       "      <td>12962</td>\n",
       "      <td>개인소형+일반수퍼</td>\n",
       "      <td>L/KG당 판매가격</td>\n",
       "      <td>C 제조사 기타 기타 봉지</td>\n",
       "      <td>C 제조사</td>\n",
       "      <td>기타</td>\n",
       "      <td>기타</td>\n",
       "      <td>봉지</td>\n",
       "      <td>유탕면</td>\n",
       "      <td>NaN</td>\n",
       "      <td>NaN</td>\n",
       "      <td>...</td>\n",
       "      <td>NaN</td>\n",
       "      <td>NaN</td>\n",
       "      <td>NaN</td>\n",
       "      <td>NaN</td>\n",
       "      <td>NaN</td>\n",
       "      <td>NaN</td>\n",
       "      <td>NaN</td>\n",
       "      <td>NaN</td>\n",
       "      <td>NaN</td>\n",
       "      <td>NaN</td>\n",
       "    </tr>\n",
       "    <tr>\n",
       "      <td>12963</td>\n",
       "      <td>개인소형+일반수퍼</td>\n",
       "      <td>L/KG당 판매가격</td>\n",
       "      <td>C 제조사 기타 기타 봉지</td>\n",
       "      <td>C 제조사</td>\n",
       "      <td>기타</td>\n",
       "      <td>기타</td>\n",
       "      <td>봉지</td>\n",
       "      <td>유탕면</td>\n",
       "      <td>NaN</td>\n",
       "      <td>NaN</td>\n",
       "      <td>...</td>\n",
       "      <td>NaN</td>\n",
       "      <td>NaN</td>\n",
       "      <td>NaN</td>\n",
       "      <td>NaN</td>\n",
       "      <td>NaN</td>\n",
       "      <td>NaN</td>\n",
       "      <td>NaN</td>\n",
       "      <td>NaN</td>\n",
       "      <td>NaN</td>\n",
       "      <td>NaN</td>\n",
       "    </tr>\n",
       "    <tr>\n",
       "      <td>12964</td>\n",
       "      <td>개인소형+일반수퍼</td>\n",
       "      <td>L/KG당 판매가격</td>\n",
       "      <td>C 제조사 기타 기타 봉지</td>\n",
       "      <td>C 제조사</td>\n",
       "      <td>기타</td>\n",
       "      <td>기타</td>\n",
       "      <td>봉지</td>\n",
       "      <td>유탕면</td>\n",
       "      <td>NaN</td>\n",
       "      <td>NaN</td>\n",
       "      <td>...</td>\n",
       "      <td>NaN</td>\n",
       "      <td>NaN</td>\n",
       "      <td>1340.66</td>\n",
       "      <td>1342.22</td>\n",
       "      <td>1220.24</td>\n",
       "      <td>1369.13</td>\n",
       "      <td>1224.14</td>\n",
       "      <td>1288.29</td>\n",
       "      <td>1444.44</td>\n",
       "      <td>ERR</td>\n",
       "    </tr>\n",
       "    <tr>\n",
       "      <td>12965</td>\n",
       "      <td>개인소형+일반수퍼</td>\n",
       "      <td>L/KG당 판매가격</td>\n",
       "      <td>C 제조사 기타 기타 봉지</td>\n",
       "      <td>C 제조사</td>\n",
       "      <td>기타</td>\n",
       "      <td>기타</td>\n",
       "      <td>봉지</td>\n",
       "      <td>유탕면</td>\n",
       "      <td>NaN</td>\n",
       "      <td>NaN</td>\n",
       "      <td>...</td>\n",
       "      <td>NaN</td>\n",
       "      <td>NaN</td>\n",
       "      <td>NaN</td>\n",
       "      <td>NaN</td>\n",
       "      <td>NaN</td>\n",
       "      <td>NaN</td>\n",
       "      <td>NaN</td>\n",
       "      <td>NaN</td>\n",
       "      <td>NaN</td>\n",
       "      <td>NaN</td>\n",
       "    </tr>\n",
       "  </tbody>\n",
       "</table>\n",
       "<p>2856 rows × 44 columns</p>\n",
       "</div>"
      ],
      "text/plain": [
       "              채널        FACT                 제품명    제조사   브랜드 서브 브랜드 포장형태  \\\n",
       "1859         할인점         판매액    C 제조사 강라면 매운맛 봉지  C 제조사   강라면    매운맛   봉지   \n",
       "1864         할인점         판매액  C 제조사 짬뽕라면 노브랜드 봉지  C 제조사  짬뽕라면   노브랜드   봉지   \n",
       "1865         할인점         판매액    C 제조사 강라면 순한맛 봉지  C 제조사   강라면    순한맛   봉지   \n",
       "1870         할인점         판매액  C 제조사 강라면 순한맛 컵 용기  C 제조사   강라면  순한맛 컵   용기   \n",
       "1871         할인점         판매액  C 제조사 강라면 매운맛 컵 용기  C 제조사   강라면  매운맛 컵   용기   \n",
       "...          ...         ...                 ...    ...   ...    ...  ...   \n",
       "12961  개인소형+일반수퍼  L/KG당 판매가격      C 제조사 기타 기타 봉지  C 제조사    기타     기타   봉지   \n",
       "12962  개인소형+일반수퍼  L/KG당 판매가격      C 제조사 기타 기타 봉지  C 제조사    기타     기타   봉지   \n",
       "12963  개인소형+일반수퍼  L/KG당 판매가격      C 제조사 기타 기타 봉지  C 제조사    기타     기타   봉지   \n",
       "12964  개인소형+일반수퍼  L/KG당 판매가격      C 제조사 기타 기타 봉지  C 제조사    기타     기타   봉지   \n",
       "12965  개인소형+일반수퍼  L/KG당 판매가격      C 제조사 기타 기타 봉지  C 제조사    기타     기타   봉지   \n",
       "\n",
       "      면 종류    JAN17    FEB17  ...    MAR19    APR19    MAY19    JUN19  \\\n",
       "1859   유탕면  1236.66  1191.45  ...  1373.32  1438.78  1213.99  1195.61   \n",
       "1864   유탕면  1234.96  817.674  ...   217.56  141.258  140.856  148.164   \n",
       "1865   유탕면  790.482  742.392  ...    785.4  797.904   671.64  668.622   \n",
       "1870   유탕면  268.968   232.35  ...  280.404  247.476  283.722   359.16   \n",
       "1871   유탕면  371.178  298.566  ...  302.856  266.082  297.312  384.642   \n",
       "...    ...      ...      ...  ...      ...      ...      ...      ...   \n",
       "12961  유탕면      NaN      NaN  ...      NaN      NaN      NaN      NaN   \n",
       "12962  유탕면      NaN      NaN  ...      NaN      NaN      NaN      NaN   \n",
       "12963  유탕면      NaN      NaN  ...      NaN      NaN      NaN      NaN   \n",
       "12964  유탕면      NaN      NaN  ...      NaN      NaN  1340.66  1342.22   \n",
       "12965  유탕면      NaN      NaN  ...      NaN      NaN      NaN      NaN   \n",
       "\n",
       "         JUL19    AUG19    SEP19    OCT19    NOV19    DEC19  \n",
       "1859   1242.34  1402.44  1212.81  1099.52  1181.41  1222.35  \n",
       "1864   164.334  276.888   270.72  259.008  511.464  710.706  \n",
       "1865   691.896  791.196  643.278  630.972  574.836  709.956  \n",
       "1870   384.642    400.8  306.732  279.198  260.856  307.416  \n",
       "1871    363.24  381.294  327.108  280.314  266.466  304.638  \n",
       "...        ...      ...      ...      ...      ...      ...  \n",
       "12961      NaN      NaN      NaN      NaN      NaN      NaN  \n",
       "12962      NaN      NaN      NaN      NaN      NaN      NaN  \n",
       "12963      NaN      NaN      NaN      NaN      NaN      NaN  \n",
       "12964  1220.24  1369.13  1224.14  1288.29  1444.44      ERR  \n",
       "12965      NaN      NaN      NaN      NaN      NaN      NaN  \n",
       "\n",
       "[2856 rows x 44 columns]"
      ]
     },
     "execution_count": 20,
     "metadata": {},
     "output_type": "execute_result"
    }
   ],
   "source": [
    "data_C = data[data[\"제조사\"]==\"C 제조사\"]\n",
    "data_C"
   ]
  },
  {
   "cell_type": "code",
   "execution_count": 21,
   "metadata": {},
   "outputs": [],
   "source": [
    "# 판매액 \n",
    "sales_rate_idx_C = data_C['FACT'] == '판매액'\n",
    "\n",
    "\n",
    "# 판매량\n",
    "sales_amount_idx_C = data_C['FACT'] == '판매량 (UNIT)'"
   ]
  },
  {
   "cell_type": "code",
   "execution_count": 22,
   "metadata": {},
   "outputs": [
    {
     "name": "stderr",
     "output_type": "stream",
     "text": [
      "C:\\Users\\student\\Anaconda3\\lib\\site-packages\\ipykernel_launcher.py:1: SettingWithCopyWarning: \n",
      "A value is trying to be set on a copy of a slice from a DataFrame.\n",
      "Try using .loc[row_indexer,col_indexer] = value instead\n",
      "\n",
      "See the caveats in the documentation: http://pandas.pydata.org/pandas-docs/stable/user_guide/indexing.html#returning-a-view-versus-a-copy\n",
      "  \"\"\"Entry point for launching an IPython kernel.\n",
      "C:\\Users\\student\\Anaconda3\\lib\\site-packages\\ipykernel_launcher.py:2: SettingWithCopyWarning: \n",
      "A value is trying to be set on a copy of a slice from a DataFrame.\n",
      "Try using .loc[row_indexer,col_indexer] = value instead\n",
      "\n",
      "See the caveats in the documentation: http://pandas.pydata.org/pandas-docs/stable/user_guide/indexing.html#returning-a-view-versus-a-copy\n",
      "  \n"
     ]
    },
    {
     "data": {
      "text/plain": [
       "1859    14668.464\n",
       "1864     7714.722\n",
       "1865     9226.452\n",
       "1870     3465.564\n",
       "1871     4147.902\n",
       "Name: 판매총액, dtype: float64"
      ]
     },
     "execution_count": 22,
     "metadata": {},
     "output_type": "execute_result"
    }
   ],
   "source": [
    "data_C['판매총액'] = 0\n",
    "data_C['판매총액'] = data_C.loc[:, \"JAN18\":\"DEC18\"].fillna(0).replace(\"ERR\", 0).apply(np.sum, axis=1)\n",
    "data_C['판매총액'].head()"
   ]
  },
  {
   "cell_type": "code",
   "execution_count": 28,
   "metadata": {},
   "outputs": [
    {
     "name": "stdout",
     "output_type": "stream",
     "text": [
      "\n",
      "==========\n",
      "17 채널별 판매액\n",
      "==========\n",
      "채널\n",
      "개인대형         49989.264\n",
      "개인소형+일반수퍼    27763.086\n",
      "조합마트         18404.532\n",
      "체인대형         35952.786\n",
      "편의점          65955.576\n",
      "할인점          79126.182\n",
      "Name: 판매총액, dtype: float64\n",
      "\n",
      "==========\n",
      "17 채널별 판매량\n",
      "==========\n",
      "채널\n",
      "개인대형          80832.594\n",
      "개인소형+일반수퍼     36807.486\n",
      "조합마트          29662.764\n",
      "체인대형          62668.962\n",
      "편의점           63762.186\n",
      "할인점          131375.478\n",
      "Name: 판매총액, dtype: float64\n"
     ]
    }
   ],
   "source": [
    "# 채널별 \n",
    "sales_rate_C = data_C[sales_rate_idx_C]['판매총액'].groupby(data_C['채널'])\n",
    "print()\n",
    "print(\"=\"*10)\n",
    "print(\"18 채널별 판매액\")\n",
    "print(\"=\"*10)\n",
    "print(sales_rate_C.sum())\n",
    "\n",
    "sales_amount_C = data_C[sales_amount_idx_C]['판매총액'].groupby(data_C['채널'])\n",
    "print()\n",
    "print(\"=\"*10)\n",
    "print(\"18 채널별 판매량\")\n",
    "print(\"=\"*10)\n",
    "print(sales_amount_C.sum())"
   ]
  },
  {
   "cell_type": "code",
   "execution_count": 29,
   "metadata": {},
   "outputs": [
    {
     "data": {
      "text/plain": [
       "채널\n",
       "개인대형          80832.594\n",
       "개인소형+일반수퍼     36807.486\n",
       "조합마트          29662.764\n",
       "체인대형          62668.962\n",
       "편의점           63762.186\n",
       "할인점          131375.478\n",
       "Name: 판매총액, dtype: float64"
      ]
     },
     "execution_count": 29,
     "metadata": {},
     "output_type": "execute_result"
    }
   ],
   "source": [
    "sales_sum_18_C = sales_rate_C.sum()\n",
    "sales_amount_18_C = sales_amount_C.sum()\n",
    "sales_amount_18_C"
   ]
  },
  {
   "cell_type": "code",
   "execution_count": 30,
   "metadata": {},
   "outputs": [
    {
     "data": {
      "text/plain": [
       "<matplotlib.legend.Legend at 0x1b26db5fd48>"
      ]
     },
     "execution_count": 30,
     "metadata": {},
     "output_type": "execute_result"
    },
    {
     "data": {
      "image/png": "[encoded data removed]",
      "text/plain": [
       "<Figure size 864x288 with 1 Axes>"
      ]
     },
     "metadata": {
      "needs_background": "light"
     },
     "output_type": "display_data"
    }
   ],
   "source": [
    "font_name = mpl.font_manager.FontProperties(fname='C:/Windows/Fonts/malgun.ttf').get_name()\n",
    "mpl.rc('font', family=font_name)\n",
    "\n",
    "ax = sales_sum_18_C.plot(kind='bar', title='Y18_제조사C 채널별 판매액', figsize=(12, 4), legend=True, fontsize=12)\n",
    "ax.set_xlabel('채널별', fontsize=12)          # x축 정보 표시\n",
    "ax.legend(['판매액'], fontsize=12)    # 범례 지정"
   ]
  },
  {
   "cell_type": "code",
   "execution_count": 31,
   "metadata": {},
   "outputs": [
    {
     "data": {
      "text/plain": [
       "<matplotlib.legend.Legend at 0x1b26bda8a88>"
      ]
     },
     "execution_count": 31,
     "metadata": {},
     "output_type": "execute_result"
    },
    {
     "data": {
      "image/png": "[encoded data removed]",
      "text/plain": [
       "<Figure size 864x288 with 1 Axes>"
      ]
     },
     "metadata": {
      "needs_background": "light"
     },
     "output_type": "display_data"
    }
   ],
   "source": [
    "font_name = mpl.font_manager.FontProperties(fname='C:/Windows/Fonts/malgun.ttf').get_name()\n",
    "mpl.rc('font', family=font_name)\n",
    "\n",
    "ax = sales_amount_18_C.plot(kind='bar', title='Y18_제조사C 채널별 판매량', figsize=(12, 4), legend=True, fontsize=12)\n",
    "ax.set_xlabel('채널별', fontsize=12)          # x축 정보 표시\n",
    "ax.legend(['판매량'], fontsize=12)    # 범례 지정"
   ]
  },
  {
   "cell_type": "code",
   "execution_count": 32,
   "metadata": {},
   "outputs": [
    {
     "data": {
      "text/plain": [
       "<matplotlib.legend.Legend at 0x1b26c3eb888>"
      ]
     },
     "execution_count": 32,
     "metadata": {},
     "output_type": "execute_result"
    },
    {
     "data": {
      "image/png": "[encoded data removed]",
      "text/plain": [
       "<Figure size 864x288 with 1 Axes>"
      ]
     },
     "metadata": {
      "needs_background": "light"
     },
     "output_type": "display_data"
    }
   ],
   "source": [
    "font_name = mpl.font_manager.FontProperties(fname='C:/Windows/Fonts/malgun.ttf').get_name()\n",
    "mpl.rc('font', family=font_name)\n",
    "\n",
    "ax = sales_sum_18_C.plot(kind='line', title='Y18_제조사C 채널별 판매액', figsize=(12, 4), legend=True, fontsize=12)\n",
    "ax.set_xlabel('채널별', fontsize=12)          # x축 정보 표시\n",
    "ax.legend(['판매액'], fontsize=12)    # 범례 지정"
   ]
  },
  {
   "cell_type": "code",
   "execution_count": 33,
   "metadata": {},
   "outputs": [
    {
     "data": {
      "text/plain": [
       "<matplotlib.legend.Legend at 0x1b26c5d35c8>"
      ]
     },
     "execution_count": 33,
     "metadata": {},
     "output_type": "execute_result"
    },
    {
     "data": {
      "image/png": "[encoded data removed]",
      "text/plain": [
       "<Figure size 864x288 with 1 Axes>"
      ]
     },
     "metadata": {
      "needs_background": "light"
     },
     "output_type": "display_data"
    }
   ],
   "source": [
    "font_name = mpl.font_manager.FontProperties(fname='C:/Windows/Fonts/malgun.ttf').get_name()\n",
    "mpl.rc('font', family=font_name)\n",
    "\n",
    "ax = sales_amount_18_C.plot(kind='line', title='Y18_제조사C 채널별 판매량', figsize=(12, 4), legend=True, fontsize=12)\n",
    "ax.set_xlabel('채널별', fontsize=12)          # x축 정보 표시\n",
    "ax.legend(['판매량'], fontsize=12)    # 범례 지정"
   ]
  }
 ],
 "metadata": {
  "kernelspec": {
   "display_name": "Python 3",
   "language": "python",
   "name": "python3"
  },
  "language_info": {
   "codemirror_mode": {
    "name": "ipython",
    "version": 3
   },
   "file_extension": ".py",
   "mimetype": "text/x-python",
   "name": "python",
   "nbconvert_exporter": "python",
   "pygments_lexer": "ipython3",
   "version": "3.7.4"
  }
 },
 "nbformat": 4,
 "nbformat_minor": 2
}
