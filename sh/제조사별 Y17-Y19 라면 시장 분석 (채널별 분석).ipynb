{
 "cells": [
  {
   "cell_type": "code",
   "execution_count": 1,
   "metadata": {},
   "outputs": [],
   "source": [
    "import pandas as pd"
   ]
  },
  {
   "cell_type": "markdown",
   "metadata": {},
   "source": [
    "https://dojang.io/mod/page/view.php?id=2459 그래프 그리기 1 <br>\n"
   ]
  },
  {
   "cell_type": "code",
   "execution_count": 25,
   "metadata": {},
   "outputs": [],
   "source": [
    "data = pd.read_excel(\"C:/sh/라면데이터.xlsx\")"
   ]
  },
  {
   "cell_type": "code",
   "execution_count": 5,
   "metadata": {},
   "outputs": [],
   "source": [
    "data = data[data[\"채널\"]!=\"전국\"]"
   ]
  },
  {
   "cell_type": "markdown",
   "metadata": {},
   "source": [
    " # 제조사 A"
   ]
  },
  {
   "cell_type": "code",
   "execution_count": 50,
   "metadata": {},
   "outputs": [
    {
     "data": {
      "text/html": [
       "<div>\n",
       "<style scoped>\n",
       "    .dataframe tbody tr th:only-of-type {\n",
       "        vertical-align: middle;\n",
       "    }\n",
       "\n",
       "    .dataframe tbody tr th {\n",
       "        vertical-align: top;\n",
       "    }\n",
       "\n",
       "    .dataframe thead th {\n",
       "        text-align: right;\n",
       "    }\n",
       "</style>\n",
       "<table border=\"1\" class=\"dataframe\">\n",
       "  <thead>\n",
       "    <tr style=\"text-align: right;\">\n",
       "      <th></th>\n",
       "      <th>채널</th>\n",
       "      <th>FACT</th>\n",
       "      <th>제품명</th>\n",
       "      <th>제조사</th>\n",
       "      <th>브랜드</th>\n",
       "      <th>서브 브랜드</th>\n",
       "      <th>포장형태</th>\n",
       "      <th>면 종류</th>\n",
       "      <th>JAN17</th>\n",
       "      <th>FEB17</th>\n",
       "      <th>...</th>\n",
       "      <th>MAR19</th>\n",
       "      <th>APR19</th>\n",
       "      <th>MAY19</th>\n",
       "      <th>JUN19</th>\n",
       "      <th>JUL19</th>\n",
       "      <th>AUG19</th>\n",
       "      <th>SEP19</th>\n",
       "      <th>OCT19</th>\n",
       "      <th>NOV19</th>\n",
       "      <th>DEC19</th>\n",
       "    </tr>\n",
       "  </thead>\n",
       "  <tbody>\n",
       "    <tr>\n",
       "      <td>0</td>\n",
       "      <td>전국</td>\n",
       "      <td>판매액</td>\n",
       "      <td>A 제조사 추추라면 노브랜드 봉지</td>\n",
       "      <td>A 제조사</td>\n",
       "      <td>추추라면</td>\n",
       "      <td>노브랜드</td>\n",
       "      <td>봉지</td>\n",
       "      <td>유탕면</td>\n",
       "      <td>11744.7</td>\n",
       "      <td>10788.2</td>\n",
       "      <td>...</td>\n",
       "      <td>10449.9</td>\n",
       "      <td>9024.43</td>\n",
       "      <td>9563.04</td>\n",
       "      <td>9092.26</td>\n",
       "      <td>9435.4</td>\n",
       "      <td>9724.52</td>\n",
       "      <td>9438.88</td>\n",
       "      <td>10799.2</td>\n",
       "      <td>9213.99</td>\n",
       "      <td>9937.66</td>\n",
       "    </tr>\n",
       "    <tr>\n",
       "      <td>1</td>\n",
       "      <td>전국</td>\n",
       "      <td>판매액</td>\n",
       "      <td>A 제조사 짜장라면 노브랜드 봉지</td>\n",
       "      <td>A 제조사</td>\n",
       "      <td>짜장라면</td>\n",
       "      <td>노브랜드</td>\n",
       "      <td>봉지</td>\n",
       "      <td>유탕면</td>\n",
       "      <td>4380.98</td>\n",
       "      <td>4733.58</td>\n",
       "      <td>...</td>\n",
       "      <td>6850.06</td>\n",
       "      <td>7048.65</td>\n",
       "      <td>5855.35</td>\n",
       "      <td>6137.5</td>\n",
       "      <td>6619.79</td>\n",
       "      <td>6751.39</td>\n",
       "      <td>6562.12</td>\n",
       "      <td>6201.79</td>\n",
       "      <td>6242.24</td>\n",
       "      <td>5890.04</td>\n",
       "    </tr>\n",
       "    <tr>\n",
       "      <td>2</td>\n",
       "      <td>전국</td>\n",
       "      <td>판매액</td>\n",
       "      <td>A 제조사 맛라면 노브랜드 봉지</td>\n",
       "      <td>A 제조사</td>\n",
       "      <td>맛라면</td>\n",
       "      <td>노브랜드</td>\n",
       "      <td>봉지</td>\n",
       "      <td>유탕면</td>\n",
       "      <td>4949.5</td>\n",
       "      <td>4626.35</td>\n",
       "      <td>...</td>\n",
       "      <td>4269.52</td>\n",
       "      <td>3835.04</td>\n",
       "      <td>3833.66</td>\n",
       "      <td>4651.44</td>\n",
       "      <td>3678.67</td>\n",
       "      <td>4318.06</td>\n",
       "      <td>4812.97</td>\n",
       "      <td>4486.84</td>\n",
       "      <td>4476.71</td>\n",
       "      <td>5384.01</td>\n",
       "    </tr>\n",
       "    <tr>\n",
       "      <td>4</td>\n",
       "      <td>전국</td>\n",
       "      <td>판매액</td>\n",
       "      <td>A 제조사 우리라면 얼큰한맛 봉지</td>\n",
       "      <td>A 제조사</td>\n",
       "      <td>우리라면</td>\n",
       "      <td>얼큰한맛</td>\n",
       "      <td>봉지</td>\n",
       "      <td>유탕면</td>\n",
       "      <td>4883.79</td>\n",
       "      <td>4012.39</td>\n",
       "      <td>...</td>\n",
       "      <td>3208.46</td>\n",
       "      <td>2506.36</td>\n",
       "      <td>2967.5</td>\n",
       "      <td>3123.96</td>\n",
       "      <td>3127.75</td>\n",
       "      <td>3309.08</td>\n",
       "      <td>3326.33</td>\n",
       "      <td>3519.37</td>\n",
       "      <td>3863.74</td>\n",
       "      <td>3817.03</td>\n",
       "    </tr>\n",
       "    <tr>\n",
       "      <td>5</td>\n",
       "      <td>전국</td>\n",
       "      <td>판매액</td>\n",
       "      <td>A 제조사 육개장 라면 사발면 용기</td>\n",
       "      <td>A 제조사</td>\n",
       "      <td>육개장 라면</td>\n",
       "      <td>사발면</td>\n",
       "      <td>용기</td>\n",
       "      <td>유탕면</td>\n",
       "      <td>3714.46</td>\n",
       "      <td>3459.24</td>\n",
       "      <td>...</td>\n",
       "      <td>4355.26</td>\n",
       "      <td>4183.33</td>\n",
       "      <td>3614.85</td>\n",
       "      <td>3489.31</td>\n",
       "      <td>3712.03</td>\n",
       "      <td>4158.14</td>\n",
       "      <td>3985.72</td>\n",
       "      <td>4364.21</td>\n",
       "      <td>3927.14</td>\n",
       "      <td>3804.79</td>\n",
       "    </tr>\n",
       "    <tr>\n",
       "      <td>...</td>\n",
       "      <td>...</td>\n",
       "      <td>...</td>\n",
       "      <td>...</td>\n",
       "      <td>...</td>\n",
       "      <td>...</td>\n",
       "      <td>...</td>\n",
       "      <td>...</td>\n",
       "      <td>...</td>\n",
       "      <td>...</td>\n",
       "      <td>...</td>\n",
       "      <td>...</td>\n",
       "      <td>...</td>\n",
       "      <td>...</td>\n",
       "      <td>...</td>\n",
       "      <td>...</td>\n",
       "      <td>...</td>\n",
       "      <td>...</td>\n",
       "      <td>...</td>\n",
       "      <td>...</td>\n",
       "      <td>...</td>\n",
       "      <td>...</td>\n",
       "    </tr>\n",
       "    <tr>\n",
       "      <td>12972</td>\n",
       "      <td>개인소형+일반수퍼</td>\n",
       "      <td>L/KG당 판매가격</td>\n",
       "      <td>A 제조사 기타 기타 봉지</td>\n",
       "      <td>A 제조사</td>\n",
       "      <td>기타</td>\n",
       "      <td>기타</td>\n",
       "      <td>봉지</td>\n",
       "      <td>유탕면</td>\n",
       "      <td>924.242</td>\n",
       "      <td>933.873</td>\n",
       "      <td>...</td>\n",
       "      <td>NaN</td>\n",
       "      <td>NaN</td>\n",
       "      <td>885.714</td>\n",
       "      <td>ERR</td>\n",
       "      <td>NaN</td>\n",
       "      <td>NaN</td>\n",
       "      <td>NaN</td>\n",
       "      <td>NaN</td>\n",
       "      <td>NaN</td>\n",
       "      <td>NaN</td>\n",
       "    </tr>\n",
       "    <tr>\n",
       "      <td>12973</td>\n",
       "      <td>개인소형+일반수퍼</td>\n",
       "      <td>L/KG당 판매가격</td>\n",
       "      <td>A 제조사 기타 기타 봉지</td>\n",
       "      <td>A 제조사</td>\n",
       "      <td>기타</td>\n",
       "      <td>기타</td>\n",
       "      <td>봉지</td>\n",
       "      <td>유탕면</td>\n",
       "      <td>NaN</td>\n",
       "      <td>NaN</td>\n",
       "      <td>...</td>\n",
       "      <td>1036.36</td>\n",
       "      <td>1102.04</td>\n",
       "      <td>ERR</td>\n",
       "      <td>NaN</td>\n",
       "      <td>NaN</td>\n",
       "      <td>958.333</td>\n",
       "      <td>ERR</td>\n",
       "      <td>NaN</td>\n",
       "      <td>NaN</td>\n",
       "      <td>NaN</td>\n",
       "    </tr>\n",
       "    <tr>\n",
       "      <td>12974</td>\n",
       "      <td>개인소형+일반수퍼</td>\n",
       "      <td>L/KG당 판매가격</td>\n",
       "      <td>A 제조사 기타 기타 봉지</td>\n",
       "      <td>A 제조사</td>\n",
       "      <td>기타</td>\n",
       "      <td>기타</td>\n",
       "      <td>봉지</td>\n",
       "      <td>유탕면</td>\n",
       "      <td>NaN</td>\n",
       "      <td>NaN</td>\n",
       "      <td>...</td>\n",
       "      <td>NaN</td>\n",
       "      <td>NaN</td>\n",
       "      <td>NaN</td>\n",
       "      <td>NaN</td>\n",
       "      <td>NaN</td>\n",
       "      <td>NaN</td>\n",
       "      <td>NaN</td>\n",
       "      <td>NaN</td>\n",
       "      <td>NaN</td>\n",
       "      <td>NaN</td>\n",
       "    </tr>\n",
       "    <tr>\n",
       "      <td>12975</td>\n",
       "      <td>개인소형+일반수퍼</td>\n",
       "      <td>L/KG당 판매가격</td>\n",
       "      <td>A 제조사 기타 기타 봉지</td>\n",
       "      <td>A 제조사</td>\n",
       "      <td>기타</td>\n",
       "      <td>기타</td>\n",
       "      <td>봉지</td>\n",
       "      <td>유탕면</td>\n",
       "      <td>NaN</td>\n",
       "      <td>NaN</td>\n",
       "      <td>...</td>\n",
       "      <td>ERR</td>\n",
       "      <td>NaN</td>\n",
       "      <td>NaN</td>\n",
       "      <td>NaN</td>\n",
       "      <td>NaN</td>\n",
       "      <td>NaN</td>\n",
       "      <td>NaN</td>\n",
       "      <td>NaN</td>\n",
       "      <td>NaN</td>\n",
       "      <td>NaN</td>\n",
       "    </tr>\n",
       "    <tr>\n",
       "      <td>12976</td>\n",
       "      <td>개인소형+일반수퍼</td>\n",
       "      <td>L/KG당 판매가격</td>\n",
       "      <td>A 제조사 기타 기타 봉지</td>\n",
       "      <td>A 제조사</td>\n",
       "      <td>기타</td>\n",
       "      <td>기타</td>\n",
       "      <td>봉지</td>\n",
       "      <td>유탕면</td>\n",
       "      <td>NaN</td>\n",
       "      <td>NaN</td>\n",
       "      <td>...</td>\n",
       "      <td>NaN</td>\n",
       "      <td>1380.71</td>\n",
       "      <td>1429.04</td>\n",
       "      <td>1398.73</td>\n",
       "      <td>1404.03</td>\n",
       "      <td>1412.86</td>\n",
       "      <td>1375.66</td>\n",
       "      <td>1417.91</td>\n",
       "      <td>1464.29</td>\n",
       "      <td>ERR</td>\n",
       "    </tr>\n",
       "  </tbody>\n",
       "</table>\n",
       "<p>3500 rows × 44 columns</p>\n",
       "</div>"
      ],
      "text/plain": [
       "              채널        FACT                  제품명    제조사     브랜드 서브 브랜드 포장형태  \\\n",
       "0             전국         판매액   A 제조사 추추라면 노브랜드 봉지  A 제조사    추추라면   노브랜드   봉지   \n",
       "1             전국         판매액   A 제조사 짜장라면 노브랜드 봉지  A 제조사    짜장라면   노브랜드   봉지   \n",
       "2             전국         판매액    A 제조사 맛라면 노브랜드 봉지  A 제조사     맛라면   노브랜드   봉지   \n",
       "4             전국         판매액   A 제조사 우리라면 얼큰한맛 봉지  A 제조사    우리라면   얼큰한맛   봉지   \n",
       "5             전국         판매액  A 제조사 육개장 라면 사발면 용기  A 제조사  육개장 라면    사발면   용기   \n",
       "...          ...         ...                  ...    ...     ...    ...  ...   \n",
       "12972  개인소형+일반수퍼  L/KG당 판매가격       A 제조사 기타 기타 봉지  A 제조사      기타     기타   봉지   \n",
       "12973  개인소형+일반수퍼  L/KG당 판매가격       A 제조사 기타 기타 봉지  A 제조사      기타     기타   봉지   \n",
       "12974  개인소형+일반수퍼  L/KG당 판매가격       A 제조사 기타 기타 봉지  A 제조사      기타     기타   봉지   \n",
       "12975  개인소형+일반수퍼  L/KG당 판매가격       A 제조사 기타 기타 봉지  A 제조사      기타     기타   봉지   \n",
       "12976  개인소형+일반수퍼  L/KG당 판매가격       A 제조사 기타 기타 봉지  A 제조사      기타     기타   봉지   \n",
       "\n",
       "      면 종류    JAN17    FEB17  ...    MAR19    APR19    MAY19    JUN19  \\\n",
       "0      유탕면  11744.7  10788.2  ...  10449.9  9024.43  9563.04  9092.26   \n",
       "1      유탕면  4380.98  4733.58  ...  6850.06  7048.65  5855.35   6137.5   \n",
       "2      유탕면   4949.5  4626.35  ...  4269.52  3835.04  3833.66  4651.44   \n",
       "4      유탕면  4883.79  4012.39  ...  3208.46  2506.36   2967.5  3123.96   \n",
       "5      유탕면  3714.46  3459.24  ...  4355.26  4183.33  3614.85  3489.31   \n",
       "...    ...      ...      ...  ...      ...      ...      ...      ...   \n",
       "12972  유탕면  924.242  933.873  ...      NaN      NaN  885.714      ERR   \n",
       "12973  유탕면      NaN      NaN  ...  1036.36  1102.04      ERR      NaN   \n",
       "12974  유탕면      NaN      NaN  ...      NaN      NaN      NaN      NaN   \n",
       "12975  유탕면      NaN      NaN  ...      ERR      NaN      NaN      NaN   \n",
       "12976  유탕면      NaN      NaN  ...      NaN  1380.71  1429.04  1398.73   \n",
       "\n",
       "         JUL19    AUG19    SEP19    OCT19    NOV19    DEC19  \n",
       "0       9435.4  9724.52  9438.88  10799.2  9213.99  9937.66  \n",
       "1      6619.79  6751.39  6562.12  6201.79  6242.24  5890.04  \n",
       "2      3678.67  4318.06  4812.97  4486.84  4476.71  5384.01  \n",
       "4      3127.75  3309.08  3326.33  3519.37  3863.74  3817.03  \n",
       "5      3712.03  4158.14  3985.72  4364.21  3927.14  3804.79  \n",
       "...        ...      ...      ...      ...      ...      ...  \n",
       "12972      NaN      NaN      NaN      NaN      NaN      NaN  \n",
       "12973      NaN  958.333      ERR      NaN      NaN      NaN  \n",
       "12974      NaN      NaN      NaN      NaN      NaN      NaN  \n",
       "12975      NaN      NaN      NaN      NaN      NaN      NaN  \n",
       "12976  1404.03  1412.86  1375.66  1417.91  1464.29      ERR  \n",
       "\n",
       "[3500 rows x 44 columns]"
      ]
     },
     "execution_count": 50,
     "metadata": {},
     "output_type": "execute_result"
    }
   ],
   "source": [
    "data_A = data[data[\"제조사\"]==\"A 제조사\"]\n",
    "data_A"
   ]
  },
  {
   "cell_type": "code",
   "execution_count": 51,
   "metadata": {},
   "outputs": [
    {
     "data": {
      "text/plain": [
       "array(['A 제조사'], dtype=object)"
      ]
     },
     "execution_count": 51,
     "metadata": {},
     "output_type": "execute_result"
    }
   ],
   "source": [
    "data_A['제조사'].unique()"
   ]
  },
  {
   "cell_type": "code",
   "execution_count": 52,
   "metadata": {},
   "outputs": [
    {
     "data": {
      "text/plain": [
       "array(['전국', '할인점', '체인대형', '조합마트', '편의점', '개인대형', '개인소형+일반수퍼'],\n",
       "      dtype=object)"
      ]
     },
     "execution_count": 52,
     "metadata": {},
     "output_type": "execute_result"
    }
   ],
   "source": [
    "data_A['채널'].unique()"
   ]
  },
  {
   "cell_type": "code",
   "execution_count": 53,
   "metadata": {},
   "outputs": [
    {
     "data": {
      "text/plain": [
       "array(['판매액', '판매량 (UNIT)', 'WD SELLING DIST', 'L/KG당 판매가격'], dtype=object)"
      ]
     },
     "execution_count": 53,
     "metadata": {},
     "output_type": "execute_result"
    }
   ],
   "source": [
    "data_A['FACT'].unique()"
   ]
  },
  {
   "cell_type": "code",
   "execution_count": 54,
   "metadata": {},
   "outputs": [],
   "source": [
    "# 판매액 \n",
    "sales_rate_idx = data_A['FACT'] == '판매액'\n",
    "\n",
    "\n",
    "# 판매량\n",
    "sales_amount_idx = data_A['FACT'] == '판매량 (UNIT)'\n"
   ]
  },
  {
   "cell_type": "code",
   "execution_count": 55,
   "metadata": {},
   "outputs": [
    {
     "name": "stderr",
     "output_type": "stream",
     "text": [
      "C:\\Users\\student\\Anaconda3\\lib\\site-packages\\ipykernel_launcher.py:3: SettingWithCopyWarning: \n",
      "A value is trying to be set on a copy of a slice from a DataFrame.\n",
      "Try using .loc[row_indexer,col_indexer] = value instead\n",
      "\n",
      "See the caveats in the documentation: http://pandas.pydata.org/pandas-docs/stable/user_guide/indexing.html#returning-a-view-versus-a-copy\n",
      "  This is separate from the ipykernel package so we can avoid doing imports until\n",
      "C:\\Users\\student\\Anaconda3\\lib\\site-packages\\ipykernel_launcher.py:4: SettingWithCopyWarning: \n",
      "A value is trying to be set on a copy of a slice from a DataFrame.\n",
      "Try using .loc[row_indexer,col_indexer] = value instead\n",
      "\n",
      "See the caveats in the documentation: http://pandas.pydata.org/pandas-docs/stable/user_guide/indexing.html#returning-a-view-versus-a-copy\n",
      "  after removing the cwd from sys.path.\n"
     ]
    },
    {
     "data": {
      "text/plain": [
       "0    139823.118\n",
       "1     57719.364\n",
       "2     58803.066\n",
       "4     43768.662\n",
       "5     44373.636\n",
       "Name: 판매총액, dtype: float64"
      ]
     },
     "execution_count": 55,
     "metadata": {},
     "output_type": "execute_result"
    }
   ],
   "source": [
    "import numpy as np\n",
    "\n",
    "data_A['판매총액'] = 0\n",
    "data_A['판매총액'] = data_A.loc[:, \"JAN17\":\"DEC17\"].fillna(0).replace(\"ERR\", 0).apply(np.sum, axis=1)\n",
    "data_A['판매총액'].head()\n"
   ]
  },
  {
   "cell_type": "code",
   "execution_count": 56,
   "metadata": {},
   "outputs": [
    {
     "name": "stdout",
     "output_type": "stream",
     "text": [
      "\n",
      "==========\n",
      "17 채널별 판매액\n",
      "==========\n",
      "채널\n",
      "개인대형         130507.866\n",
      "개인소형+일반수퍼    111929.028\n",
      "전국           673521.456\n",
      "조합마트          57205.656\n",
      "체인대형          70919.274\n",
      "편의점          138554.544\n",
      "할인점          164404.812\n",
      "Name: 판매총액, dtype: float64\n",
      "\n",
      "==========\n",
      "17 채널별 판매량\n",
      "==========\n",
      "채널\n",
      "개인대형         162263.214\n",
      "개인소형+일반수퍼    128230.524\n",
      "전국           829687.284\n",
      "조합마트          77750.088\n",
      "체인대형          96782.664\n",
      "편의점          137209.446\n",
      "할인점          227451.372\n",
      "Name: 판매총액, dtype: float64\n"
     ]
    }
   ],
   "source": [
    "# 채널별 \n",
    "sales_rate = data_A[sales_rate_idx]['판매총액'].groupby(data_A['채널'])\n",
    "print()\n",
    "print(\"=\"*10)\n",
    "print(\"17 채널별 판매액\")\n",
    "print(\"=\"*10)\n",
    "print(sales_rate.sum())\n",
    "\n",
    "sales_amount = data_A[sales_amount_idx]['판매총액'].groupby(data_A['채널'])\n",
    "print()\n",
    "print(\"=\"*10)\n",
    "print(\"17 채널별 판매량\")\n",
    "print(\"=\"*10)\n",
    "print(sales_amount.sum())"
   ]
  },
  {
   "cell_type": "code",
   "execution_count": 18,
   "metadata": {},
   "outputs": [
    {
     "data": {
      "text/plain": [
       "채널\n",
       "개인대형         162263.214\n",
       "개인소형+일반수퍼    128230.524\n",
       "조합마트          77750.088\n",
       "체인대형          96782.664\n",
       "편의점          137209.446\n",
       "할인점          227451.372\n",
       "Name: 판매총액, dtype: float64"
      ]
     },
     "execution_count": 18,
     "metadata": {},
     "output_type": "execute_result"
    }
   ],
   "source": [
    "sales_sum_17 = sales_rate.sum()\n",
    "sales_amount_17 = sales_amount.sum()\n",
    "sales_amount_17"
   ]
  },
  {
   "cell_type": "code",
   "execution_count": 19,
   "metadata": {},
   "outputs": [],
   "source": [
    "# 그래프"
   ]
  },
  {
   "cell_type": "code",
   "execution_count": 20,
   "metadata": {},
   "outputs": [],
   "source": [
    "%matplotlib inline\n",
    "import pandas as pd                # 데이터를 저장하고 처리하는 패키지\n",
    "import matplotlib as mpl           # 그래프를 그리는 패키지\n",
    "import matplotlib.pyplot as plt    # 그래프를 그리는 패키지"
   ]
  },
  {
   "cell_type": "code",
   "execution_count": 41,
   "metadata": {},
   "outputs": [
    {
     "data": {
      "text/plain": [
       "<matplotlib.legend.Legend at 0x25a42cfaa88>"
      ]
     },
     "execution_count": 41,
     "metadata": {},
     "output_type": "execute_result"
    },
    {
     "data": {
      "image/png": "[encoded data removed]",
      "text/plain": [
       "<Figure size 864x288 with 1 Axes>"
      ]
     },
     "metadata": {
      "needs_background": "light"
     },
     "output_type": "display_data"
    }
   ],
   "source": [
    "font_name = mpl.font_manager.FontProperties(fname='C:/Windows/Fonts/malgun.ttf').get_name()\n",
    "mpl.rc('font', family=font_name)\n",
    "\n",
    "ax = sales_sum_17.plot(kind='bar', title='Y17_제조사A 채널별 판매액', figsize=(12, 4), legend=True, fontsize=12)\n",
    "ax.set_xlabel('채널별', fontsize=12)          # x축 정보 표시\n",
    "ax.legend(['판매액'], fontsize=12)    # 범례 지정"
   ]
  },
  {
   "cell_type": "code",
   "execution_count": 36,
   "metadata": {},
   "outputs": [
    {
     "data": {
      "text/plain": [
       "<matplotlib.legend.Legend at 0x25a42a08b08>"
      ]
     },
     "execution_count": 36,
     "metadata": {},
     "output_type": "execute_result"
    },
    {
     "data": {
      "image/png": "[encoded data removed]",
      "text/plain": [
       "<Figure size 864x288 with 1 Axes>"
      ]
     },
     "metadata": {
      "needs_background": "light"
     },
     "output_type": "display_data"
    }
   ],
   "source": [
    "font_name = mpl.font_manager.FontProperties(fname='C:/Windows/Fonts/malgun.ttf').get_name()\n",
    "mpl.rc('font', family=font_name)\n",
    "\n",
    "ax = sales_amount_17.plot(kind='bar', title='Y17_제조사A 채널별 판매량', figsize=(12, 4), legend=True, fontsize=12)\n",
    "ax.set_xlabel('채널별', fontsize=12)          # x축 정보 표시\n",
    "ax.legend(['판매량'], fontsize=12)    # 범례 지정"
   ]
  },
  {
   "cell_type": "code",
   "execution_count": 42,
   "metadata": {},
   "outputs": [
    {
     "data": {
      "text/plain": [
       "<matplotlib.legend.Legend at 0x25a42f41388>"
      ]
     },
     "execution_count": 42,
     "metadata": {},
     "output_type": "execute_result"
    },
    {
     "data": {
      "image/png": "[encoded data removed]",
      "text/plain": [
       "<Figure size 864x288 with 1 Axes>"
      ]
     },
     "metadata": {
      "needs_background": "light"
     },
     "output_type": "display_data"
    }
   ],
   "source": [
    "font_name = mpl.font_manager.FontProperties(fname='C:/Windows/Fonts/malgun.ttf').get_name()\n",
    "mpl.rc('font', family=font_name)\n",
    "\n",
    "ax = sales_sum_17.plot(kind='line', title='Y17_제조사A 채널별 판매액', figsize=(12, 4), legend=True, fontsize=12)\n",
    "ax.set_xlabel('채널별', fontsize=12)          # x축 정보 표시\n",
    "ax.legend(['판매액'], fontsize=12)    # 범례 지정"
   ]
  },
  {
   "cell_type": "code",
   "execution_count": 44,
   "metadata": {},
   "outputs": [
    {
     "data": {
      "text/plain": [
       "<matplotlib.legend.Legend at 0x25a460d08c8>"
      ]
     },
     "execution_count": 44,
     "metadata": {},
     "output_type": "execute_result"
    },
    {
     "data": {
      "image/png": "[encoded data removed]",
      "text/plain": [
       "<Figure size 864x288 with 1 Axes>"
      ]
     },
     "metadata": {
      "needs_background": "light"
     },
     "output_type": "display_data"
    }
   ],
   "source": [
    "font_name = mpl.font_manager.FontProperties(fname='C:/Windows/Fonts/malgun.ttf').get_name()\n",
    "mpl.rc('font', family=font_name)\n",
    "\n",
    "ax = sales_amount_17.plot(kind='line', title='Y17_제조사A 채널별 판매량', figsize=(12, 4), legend=True, fontsize=12)\n",
    "ax.set_xlabel('채널별', fontsize=12)          # x축 정보 표시\n",
    "ax.legend(['판매량'], fontsize=12)    # 범례 지정"
   ]
  },
  {
   "cell_type": "code",
   "execution_count": 33,
   "metadata": {},
   "outputs": [
    {
     "data": {
      "image/png": "[encoded data removed]",
      "text/plain": [
       "<Figure size 864x288 with 1 Axes>"
      ]
     },
     "metadata": {},
     "output_type": "display_data"
    }
   ],
   "source": [
    "font_name = mpl.font_manager.FontProperties(fname='C:/Windows/Fonts/malgun.ttf').get_name()\n",
    "mpl.rc('font', family=font_name)\n",
    "\n",
    "ax = sales_sum_17.plot(kind='pie', title='Y17_제조사A 채널별 판매액', figsize=(12, 4), legend=True, fontsize=12)"
   ]
  },
  {
   "cell_type": "code",
   "execution_count": 43,
   "metadata": {},
   "outputs": [
    {
     "data": {
      "image/png": "[encoded data removed]",
      "text/plain": [
       "<Figure size 864x288 with 1 Axes>"
      ]
     },
     "metadata": {},
     "output_type": "display_data"
    }
   ],
   "source": [
    "font_name = mpl.font_manager.FontProperties(fname='C:/Windows/Fonts/malgun.ttf').get_name()\n",
    "mpl.rc('font', family=font_name)\n",
    "\n",
    "ax = sales_amount_17.plot(kind='pie', title='Y17_제조사A 채널별 판매량', figsize=(12, 4), legend=True, fontsize=12)"
   ]
  },
  {
   "cell_type": "code",
   "execution_count": null,
   "metadata": {},
   "outputs": [],
   "source": []
  }
 ],
 "metadata": {
  "kernelspec": {
   "display_name": "Python 3",
   "language": "python",
   "name": "python3"
  },
  "language_info": {
   "codemirror_mode": {
    "name": "ipython",
    "version": 3
   },
   "file_extension": ".py",
   "mimetype": "text/x-python",
   "name": "python",
   "nbconvert_exporter": "python",
   "pygments_lexer": "ipython3",
   "version": "3.7.4"
  }
 },
 "nbformat": 4,
 "nbformat_minor": 2
}
